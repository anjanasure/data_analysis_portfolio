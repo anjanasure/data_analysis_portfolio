{
 "cells": [
  {
   "cell_type": "markdown",
   "id": "9b0b6e77",
   "metadata": {},
   "source": [
    "# German Credit Score Analysis\n",
    "\n",
    "### Synopsis for the dataset:\n",
    "The dataset has 1000 records and was downloaded as a CSV file. It contains numeric and categorical variables that represent various demographic and socio-economic characteristics of loan applicants. The target variable is whether an applicant was classified as having good or bad credit_risk. This data is collected from open source."
   ]
  },
  {
   "cell_type": "markdown",
   "id": "b97418e5",
   "metadata": {},
   "source": [
    "The following attributes are given (as given in the accompanying PDF file):  \n",
    "\n",
    "**account_status:** status of existing checking account  \n",
    "– A11: . . . < 0 €  \n",
    "– A12: 0 <= . . . < 200 €  \n",
    "– A13: . . . >= 200 € / salary assignments for at least 1 year  \n",
    "– A14: no checking account  \n",
    "<br>**duration:** duration in months  \n",
    "<br>**credit_history:** credit history  \n",
    "– A30: no credits taken / all credits paid back duly  \n",
    "– A31: all credits at this bank paid back duly  \n",
    "– A32: existing credits paid back duly till now  \n",
    "– A33: delay in paying off in the past  \n",
    "– A34: critical account / other credits existing (not at this bank)  \n",
    "<br>**purpose:** purpose  \n",
    "– A40: car (new)  \n",
    "– A41: car (used)  \n",
    "– A42: furniture/equipment  \n",
    "– A43: radio/television  \n",
    "– A44: domestic appliances  \n",
    "– A45: repairs  \n",
    "– A46: education  \n",
    "– A48: retraining  \n",
    "– A49: business  \n",
    "– A410: others  \n",
    "<br>**credit_amount:** credit amount  \n",
    "<br>**savings:** savings account  \n",
    "– A61: . . . < 100 €  \n",
    "– A62: 100 <= . . . < 500 €  \n",
    "– A63: 500 <= . . . < 1000 €  \n",
    "– A64: .. >= 1000 €  \n",
    "– A65: unknown / no savings account  \n",
    "<br>**employment:** present employment duration  \n",
    "– A71: unemployed  \n",
    "– A72: . . . < 1 year  \n",
    "– A73: 1 <= . . . < 4 years  \n",
    "– A74: 4 <= . . . < 7 years  \n",
    "– A75: .. >= 7 years  \n",
    "<br>**installment_rate:** Installment rate in percentage of disposable income  \n",
    "<br>**gender_and_marital_status:** personal status and sex  \n",
    "– A91: male & divorced/separated  \n",
    "– A92: female & divorced/separated/married  \n",
    "– A93: male & single  \n",
    "– A94: male & married/widowed  \n",
    "– A95: female & single  \n",
    "<br>**guarantors:** Other debtors/guarantors  \n",
    "– A101: none  \n",
    "– A102: co-applicant  \n",
    "– A103: guarantor  \n",
    "<br>**residence_duration:** Present residence duration  \n",
    "<br>**property:** Property  \n",
    "– A121: real estate  \n",
    "– A122: if not A121: building society savings agreement / life insurance  \n",
    "– A123: if not A121/A122: car or other, not in attribute 6  \n",
    "– A124: unknown / no property  \n",
    "<br>**age:** age in years  \n",
    "<br>**other_installments:** Other installment plans  \n",
    "– A141: bank  \n",
    "– A142: stores  \n",
    "– A143: none  \n",
    "<br>**housing_type:** housing type  \n",
    "– A151: rent  \n",
    "– A152: own  \n",
    "– A153: for free  \n",
    "<br>**number_of_credits:** Number of existing credits at this bank  \n",
    "<br>**occupation:** occupation  \n",
    "– A171: unemployed / unskilled - non-resident  \n",
    "– A172: unskilled - resident  \n",
    "– A173: skilled employee / official  \n",
    "– A174: management/self-employed/highly qualified employee/officer  \n",
    "<br>**number_of_dependants:** Number of people being liable to provide maintenance for  \n",
    "<br>**phone:** phone  \n",
    "– A191: none  \n",
    "– A192: yes, registered under the customers name  \n",
    "<br>**foreign_worker:** foreign worker  \n",
    "– A201: yes  \n",
    "– A202: no  \n",
    "<br>**credit_risk:** classification of an applicant’s credit risk  \n",
    "– 1: good credit risk  \n",
    "– 2: bad credit risk"
   ]
  },
  {
   "cell_type": "markdown",
   "id": "0ccc9c6f",
   "metadata": {},
   "source": [
    "### 1. Import libraries\n",
    "\n",
    "Here the necessary libraries for data manipulation, visualization and modelling are imported. The figure size and seed is also set, and it is ensured that all columns in the dataframe will be printed by pandas."
   ]
  },
  {
   "cell_type": "code",
   "execution_count": 45,
   "id": "db0cf377",
   "metadata": {},
   "outputs": [],
   "source": [
    "# data manipulation\n",
    "import numpy as np\n",
    "import pandas as pd\n",
    "\n",
    "# data viz\n",
    "import matplotlib.pyplot as plt\n",
    "import seaborn as sns\n",
    "\n",
    "# data modelling \n",
    "from sklearn.model_selection import train_test_split, KFold, cross_val_score, GridSearchCV, RandomizedSearchCV\n",
    "from sklearn.metrics import accuracy_score, confusion_matrix, classification_report, roc_curve, roc_auc_score\n",
    "import sklearn.svm as svm\n",
    "from sklearn.ensemble import RandomForestClassifier\n",
    "from sklearn.linear_model import LogisticRegression, LinearRegression\n",
    "#from sklearn.neighbors import KNeighborsClassifier\n",
    "#from xgboost import XGBClassifier\n",
    "from sklearn.naive_bayes import GaussianNB\n",
    "from sklearn.preprocessing import StandardScaler\n",
    "\n",
    "\n",
    "pd.set_option('display.max_columns', None)\n",
    "np.random.seed(42)\n",
    "plt.rcParams['figure.figsize'] = [9, 7]\n",
    "sns.set_style(\"dark\")\n",
    "sns.set_style(\"darkgrid\")"
   ]
  },
  {
   "cell_type": "markdown",
   "id": "26c68393",
   "metadata": {},
   "source": [
    "### 2. Exploratory Data Analysis"
   ]
  },
  {
   "cell_type": "markdown",
   "id": "c28a9313",
   "metadata": {},
   "source": [
    "### 2.1 First look at the data\n",
    "\n",
    "Here, the dataset is loaded into a pandas dataframe and ten rows are sampled to get a first view of the data."
   ]
  },
  {
   "cell_type": "code",
   "execution_count": 46,
   "id": "0f101ce2",
   "metadata": {},
   "outputs": [
    {
     "data": {
      "text/html": [
       "<div>\n",
       "<style scoped>\n",
       "    .dataframe tbody tr th:only-of-type {\n",
       "        vertical-align: middle;\n",
       "    }\n",
       "\n",
       "    .dataframe tbody tr th {\n",
       "        vertical-align: top;\n",
       "    }\n",
       "\n",
       "    .dataframe thead th {\n",
       "        text-align: right;\n",
       "    }\n",
       "</style>\n",
       "<table border=\"1\" class=\"dataframe\">\n",
       "  <thead>\n",
       "    <tr style=\"text-align: right;\">\n",
       "      <th></th>\n",
       "      <th>account_status</th>\n",
       "      <th>duration</th>\n",
       "      <th>credit_history</th>\n",
       "      <th>purpose</th>\n",
       "      <th>credit_amount</th>\n",
       "      <th>savings</th>\n",
       "      <th>employment</th>\n",
       "      <th>installment_rate</th>\n",
       "      <th>gender_and_marital_status</th>\n",
       "      <th>guarantors</th>\n",
       "      <th>residence_duration</th>\n",
       "      <th>property</th>\n",
       "      <th>age</th>\n",
       "      <th>other_installments</th>\n",
       "      <th>housing_type</th>\n",
       "      <th>number_of_credits</th>\n",
       "      <th>occupation</th>\n",
       "      <th>number_of_dependants</th>\n",
       "      <th>phone</th>\n",
       "      <th>foreign_worker</th>\n",
       "      <th>credit_risk</th>\n",
       "    </tr>\n",
       "  </thead>\n",
       "  <tbody>\n",
       "    <tr>\n",
       "      <th>521</th>\n",
       "      <td>A14</td>\n",
       "      <td>12</td>\n",
       "      <td>A34</td>\n",
       "      <td>A42</td>\n",
       "      <td>1592</td>\n",
       "      <td>A64</td>\n",
       "      <td>A74</td>\n",
       "      <td>3</td>\n",
       "      <td>A92</td>\n",
       "      <td>A101</td>\n",
       "      <td>2</td>\n",
       "      <td>A122</td>\n",
       "      <td>35.0</td>\n",
       "      <td>A143</td>\n",
       "      <td>A152</td>\n",
       "      <td>1</td>\n",
       "      <td>A173</td>\n",
       "      <td>1</td>\n",
       "      <td>A191</td>\n",
       "      <td>A202</td>\n",
       "      <td>1</td>\n",
       "    </tr>\n",
       "    <tr>\n",
       "      <th>737</th>\n",
       "      <td>A12</td>\n",
       "      <td>48</td>\n",
       "      <td>A32</td>\n",
       "      <td>A42</td>\n",
       "      <td>9960</td>\n",
       "      <td>A61</td>\n",
       "      <td>A72</td>\n",
       "      <td>1</td>\n",
       "      <td>A92</td>\n",
       "      <td>A101</td>\n",
       "      <td>2</td>\n",
       "      <td>A123</td>\n",
       "      <td>26.0</td>\n",
       "      <td>A143</td>\n",
       "      <td>A152</td>\n",
       "      <td>1</td>\n",
       "      <td>A173</td>\n",
       "      <td>1</td>\n",
       "      <td>A192</td>\n",
       "      <td>A201</td>\n",
       "      <td>2</td>\n",
       "    </tr>\n",
       "    <tr>\n",
       "      <th>740</th>\n",
       "      <td>A14</td>\n",
       "      <td>10</td>\n",
       "      <td>A32</td>\n",
       "      <td>A40</td>\n",
       "      <td>1287</td>\n",
       "      <td>A65</td>\n",
       "      <td>A75</td>\n",
       "      <td>4</td>\n",
       "      <td>A93</td>\n",
       "      <td>A102</td>\n",
       "      <td>2</td>\n",
       "      <td>A122</td>\n",
       "      <td>45.0</td>\n",
       "      <td>A143</td>\n",
       "      <td>A152</td>\n",
       "      <td>1</td>\n",
       "      <td>A172</td>\n",
       "      <td>1</td>\n",
       "      <td>A191</td>\n",
       "      <td>A202</td>\n",
       "      <td>1</td>\n",
       "    </tr>\n",
       "    <tr>\n",
       "      <th>660</th>\n",
       "      <td>A11</td>\n",
       "      <td>6</td>\n",
       "      <td>A34</td>\n",
       "      <td>A43</td>\n",
       "      <td>1957</td>\n",
       "      <td>A61</td>\n",
       "      <td>A74</td>\n",
       "      <td>1</td>\n",
       "      <td>A92</td>\n",
       "      <td>A101</td>\n",
       "      <td>4</td>\n",
       "      <td>A123</td>\n",
       "      <td>31.0</td>\n",
       "      <td>A143</td>\n",
       "      <td>A152</td>\n",
       "      <td>1</td>\n",
       "      <td>A173</td>\n",
       "      <td>1</td>\n",
       "      <td>A191</td>\n",
       "      <td>A201</td>\n",
       "      <td>1</td>\n",
       "    </tr>\n",
       "    <tr>\n",
       "      <th>411</th>\n",
       "      <td>A12</td>\n",
       "      <td>45</td>\n",
       "      <td>A34</td>\n",
       "      <td>A41</td>\n",
       "      <td>4576</td>\n",
       "      <td>A62</td>\n",
       "      <td>A71</td>\n",
       "      <td>3</td>\n",
       "      <td>A93</td>\n",
       "      <td>A101</td>\n",
       "      <td>4</td>\n",
       "      <td>A123</td>\n",
       "      <td>27.0</td>\n",
       "      <td>A143</td>\n",
       "      <td>A152</td>\n",
       "      <td>1</td>\n",
       "      <td>A173</td>\n",
       "      <td>1</td>\n",
       "      <td>A191</td>\n",
       "      <td>A201</td>\n",
       "      <td>1</td>\n",
       "    </tr>\n",
       "    <tr>\n",
       "      <th>678</th>\n",
       "      <td>A12</td>\n",
       "      <td>27</td>\n",
       "      <td>A34</td>\n",
       "      <td>A43</td>\n",
       "      <td>2520</td>\n",
       "      <td>A63</td>\n",
       "      <td>A73</td>\n",
       "      <td>4</td>\n",
       "      <td>A93</td>\n",
       "      <td>A101</td>\n",
       "      <td>2</td>\n",
       "      <td>A122</td>\n",
       "      <td>23.0</td>\n",
       "      <td>A143</td>\n",
       "      <td>A152</td>\n",
       "      <td>2</td>\n",
       "      <td>A172</td>\n",
       "      <td>1</td>\n",
       "      <td>A191</td>\n",
       "      <td>A201</td>\n",
       "      <td>2</td>\n",
       "    </tr>\n",
       "    <tr>\n",
       "      <th>626</th>\n",
       "      <td>A13</td>\n",
       "      <td>24</td>\n",
       "      <td>A32</td>\n",
       "      <td>A43</td>\n",
       "      <td>5152</td>\n",
       "      <td>A61</td>\n",
       "      <td>A74</td>\n",
       "      <td>4</td>\n",
       "      <td>A93</td>\n",
       "      <td>A101</td>\n",
       "      <td>2</td>\n",
       "      <td>A123</td>\n",
       "      <td>25.0</td>\n",
       "      <td>A141</td>\n",
       "      <td>A152</td>\n",
       "      <td>1</td>\n",
       "      <td>A173</td>\n",
       "      <td>1</td>\n",
       "      <td>A191</td>\n",
       "      <td>A201</td>\n",
       "      <td>1</td>\n",
       "    </tr>\n",
       "    <tr>\n",
       "      <th>513</th>\n",
       "      <td>A14</td>\n",
       "      <td>22</td>\n",
       "      <td>A32</td>\n",
       "      <td>A43</td>\n",
       "      <td>2675</td>\n",
       "      <td>A63</td>\n",
       "      <td>A75</td>\n",
       "      <td>3</td>\n",
       "      <td>A93</td>\n",
       "      <td>A101</td>\n",
       "      <td>4</td>\n",
       "      <td>A123</td>\n",
       "      <td>40.0</td>\n",
       "      <td>A143</td>\n",
       "      <td>A152</td>\n",
       "      <td>1</td>\n",
       "      <td>A173</td>\n",
       "      <td>1</td>\n",
       "      <td>A191</td>\n",
       "      <td>A201</td>\n",
       "      <td>1</td>\n",
       "    </tr>\n",
       "    <tr>\n",
       "      <th>859</th>\n",
       "      <td>A12</td>\n",
       "      <td>21</td>\n",
       "      <td>A34</td>\n",
       "      <td>A49</td>\n",
       "      <td>3652</td>\n",
       "      <td>A61</td>\n",
       "      <td>A74</td>\n",
       "      <td>2</td>\n",
       "      <td>A93</td>\n",
       "      <td>A101</td>\n",
       "      <td>3</td>\n",
       "      <td>A122</td>\n",
       "      <td>27.0</td>\n",
       "      <td>A143</td>\n",
       "      <td>A152</td>\n",
       "      <td>2</td>\n",
       "      <td>A173</td>\n",
       "      <td>1</td>\n",
       "      <td>A191</td>\n",
       "      <td>A201</td>\n",
       "      <td>1</td>\n",
       "    </tr>\n",
       "    <tr>\n",
       "      <th>136</th>\n",
       "      <td>A13</td>\n",
       "      <td>15</td>\n",
       "      <td>A32</td>\n",
       "      <td>A46</td>\n",
       "      <td>392</td>\n",
       "      <td>A61</td>\n",
       "      <td>A72</td>\n",
       "      <td>4</td>\n",
       "      <td>A92</td>\n",
       "      <td>A101</td>\n",
       "      <td>4</td>\n",
       "      <td>A122</td>\n",
       "      <td>23.0</td>\n",
       "      <td>A143</td>\n",
       "      <td>A151</td>\n",
       "      <td>1</td>\n",
       "      <td>A173</td>\n",
       "      <td>1</td>\n",
       "      <td>A192</td>\n",
       "      <td>A201</td>\n",
       "      <td>1</td>\n",
       "    </tr>\n",
       "  </tbody>\n",
       "</table>\n",
       "</div>"
      ],
      "text/plain": [
       "    account_status  duration credit_history purpose  credit_amount savings  \\\n",
       "521            A14        12            A34     A42           1592     A64   \n",
       "737            A12        48            A32     A42           9960     A61   \n",
       "740            A14        10            A32     A40           1287     A65   \n",
       "660            A11         6            A34     A43           1957     A61   \n",
       "411            A12        45            A34     A41           4576     A62   \n",
       "678            A12        27            A34     A43           2520     A63   \n",
       "626            A13        24            A32     A43           5152     A61   \n",
       "513            A14        22            A32     A43           2675     A63   \n",
       "859            A12        21            A34     A49           3652     A61   \n",
       "136            A13        15            A32     A46            392     A61   \n",
       "\n",
       "    employment  installment_rate gender_and_marital_status guarantors  \\\n",
       "521        A74                 3                       A92       A101   \n",
       "737        A72                 1                       A92       A101   \n",
       "740        A75                 4                       A93       A102   \n",
       "660        A74                 1                       A92       A101   \n",
       "411        A71                 3                       A93       A101   \n",
       "678        A73                 4                       A93       A101   \n",
       "626        A74                 4                       A93       A101   \n",
       "513        A75                 3                       A93       A101   \n",
       "859        A74                 2                       A93       A101   \n",
       "136        A72                 4                       A92       A101   \n",
       "\n",
       "     residence_duration property   age other_installments housing_type  \\\n",
       "521                   2     A122  35.0               A143         A152   \n",
       "737                   2     A123  26.0               A143         A152   \n",
       "740                   2     A122  45.0               A143         A152   \n",
       "660                   4     A123  31.0               A143         A152   \n",
       "411                   4     A123  27.0               A143         A152   \n",
       "678                   2     A122  23.0               A143         A152   \n",
       "626                   2     A123  25.0               A141         A152   \n",
       "513                   4     A123  40.0               A143         A152   \n",
       "859                   3     A122  27.0               A143         A152   \n",
       "136                   4     A122  23.0               A143         A151   \n",
       "\n",
       "     number_of_credits occupation  number_of_dependants phone foreign_worker  \\\n",
       "521                  1       A173                     1  A191           A202   \n",
       "737                  1       A173                     1  A192           A201   \n",
       "740                  1       A172                     1  A191           A202   \n",
       "660                  1       A173                     1  A191           A201   \n",
       "411                  1       A173                     1  A191           A201   \n",
       "678                  2       A172                     1  A191           A201   \n",
       "626                  1       A173                     1  A191           A201   \n",
       "513                  1       A173                     1  A191           A201   \n",
       "859                  2       A173                     1  A191           A201   \n",
       "136                  1       A173                     1  A192           A201   \n",
       "\n",
       "     credit_risk  \n",
       "521            1  \n",
       "737            2  \n",
       "740            1  \n",
       "660            1  \n",
       "411            1  \n",
       "678            2  \n",
       "626            1  \n",
       "513            1  \n",
       "859            1  \n",
       "136            1  "
      ]
     },
     "execution_count": 46,
     "metadata": {},
     "output_type": "execute_result"
    }
   ],
   "source": [
    "# load dataset into pandas dataframe\n",
    "\n",
    "df_credit = pd.read_csv('/datasets/credit_data.csv')\n",
    "\n",
    "df_credit.sample(10, random_state=42)"
   ]
  },
  {
   "cell_type": "code",
   "execution_count": 47,
   "id": "63e33f73",
   "metadata": {},
   "outputs": [
    {
     "name": "stdout",
     "output_type": "stream",
     "text": [
      "<class 'pandas.core.frame.DataFrame'>\n",
      "RangeIndex: 1000 entries, 0 to 999\n",
      "Data columns (total 21 columns):\n",
      " #   Column                     Non-Null Count  Dtype  \n",
      "---  ------                     --------------  -----  \n",
      " 0   account_status             1000 non-null   object \n",
      " 1   duration                   1000 non-null   int64  \n",
      " 2   credit_history             1000 non-null   object \n",
      " 3   purpose                    1000 non-null   object \n",
      " 4   credit_amount              1000 non-null   int64  \n",
      " 5   savings                    1000 non-null   object \n",
      " 6   employment                 1000 non-null   object \n",
      " 7   installment_rate           1000 non-null   int64  \n",
      " 8   gender_and_marital_status  1000 non-null   object \n",
      " 9   guarantors                 1000 non-null   object \n",
      " 10  residence_duration         1000 non-null   int64  \n",
      " 11  property                   1000 non-null   object \n",
      " 12  age                        998 non-null    float64\n",
      " 13  other_installments         1000 non-null   object \n",
      " 14  housing_type               1000 non-null   object \n",
      " 15  number_of_credits          1000 non-null   int64  \n",
      " 16  occupation                 998 non-null    object \n",
      " 17  number_of_dependants       1000 non-null   int64  \n",
      " 18  phone                      1000 non-null   object \n",
      " 19  foreign_worker             1000 non-null   object \n",
      " 20  credit_risk                1000 non-null   int64  \n",
      "dtypes: float64(1), int64(7), object(13)\n",
      "memory usage: 164.2+ KB\n"
     ]
    }
   ],
   "source": [
    "# printing some general information about the dataframe\n",
    "\n",
    "df_credit.info()"
   ]
  },
  {
   "cell_type": "markdown",
   "id": "c245a818",
   "metadata": {},
   "source": [
    "Here we can see the dataframe dimensions and datatypes. There are 1000 rows and 21 columns, with datatypes float64, int64 and object. \n",
    "<br>We also have two missing values in the columns \"age\" and \"occupation\"."
   ]
  },
  {
   "cell_type": "code",
   "execution_count": 48,
   "id": "c7669a4a",
   "metadata": {},
   "outputs": [
    {
     "data": {
      "text/html": [
       "<div>\n",
       "<style scoped>\n",
       "    .dataframe tbody tr th:only-of-type {\n",
       "        vertical-align: middle;\n",
       "    }\n",
       "\n",
       "    .dataframe tbody tr th {\n",
       "        vertical-align: top;\n",
       "    }\n",
       "\n",
       "    .dataframe thead th {\n",
       "        text-align: right;\n",
       "    }\n",
       "</style>\n",
       "<table border=\"1\" class=\"dataframe\">\n",
       "  <thead>\n",
       "    <tr style=\"text-align: right;\">\n",
       "      <th></th>\n",
       "      <th>account_status</th>\n",
       "      <th>duration</th>\n",
       "      <th>credit_history</th>\n",
       "      <th>purpose</th>\n",
       "      <th>credit_amount</th>\n",
       "      <th>savings</th>\n",
       "      <th>employment</th>\n",
       "      <th>installment_rate</th>\n",
       "      <th>gender_and_marital_status</th>\n",
       "      <th>guarantors</th>\n",
       "      <th>residence_duration</th>\n",
       "      <th>property</th>\n",
       "      <th>age</th>\n",
       "      <th>other_installments</th>\n",
       "      <th>housing_type</th>\n",
       "      <th>number_of_credits</th>\n",
       "      <th>occupation</th>\n",
       "      <th>number_of_dependants</th>\n",
       "      <th>phone</th>\n",
       "      <th>foreign_worker</th>\n",
       "      <th>credit_risk</th>\n",
       "    </tr>\n",
       "  </thead>\n",
       "  <tbody>\n",
       "    <tr>\n",
       "      <th>0</th>\n",
       "      <td>A11</td>\n",
       "      <td>6</td>\n",
       "      <td>A34</td>\n",
       "      <td>A40</td>\n",
       "      <td>860</td>\n",
       "      <td>A61</td>\n",
       "      <td>A75</td>\n",
       "      <td>1</td>\n",
       "      <td>A92</td>\n",
       "      <td>A101</td>\n",
       "      <td>4</td>\n",
       "      <td>A124</td>\n",
       "      <td>NaN</td>\n",
       "      <td>A143</td>\n",
       "      <td>A152</td>\n",
       "      <td>2</td>\n",
       "      <td>A173</td>\n",
       "      <td>1</td>\n",
       "      <td>A192</td>\n",
       "      <td>A201</td>\n",
       "      <td>1</td>\n",
       "    </tr>\n",
       "    <tr>\n",
       "      <th>9</th>\n",
       "      <td>A11</td>\n",
       "      <td>18</td>\n",
       "      <td>A32</td>\n",
       "      <td>A43</td>\n",
       "      <td>1345</td>\n",
       "      <td>A61</td>\n",
       "      <td>A73</td>\n",
       "      <td>4</td>\n",
       "      <td>A94</td>\n",
       "      <td>A101</td>\n",
       "      <td>3</td>\n",
       "      <td>A121</td>\n",
       "      <td>26.0</td>\n",
       "      <td>A141</td>\n",
       "      <td>A152</td>\n",
       "      <td>1</td>\n",
       "      <td>NaN</td>\n",
       "      <td>1</td>\n",
       "      <td>A191</td>\n",
       "      <td>A201</td>\n",
       "      <td>2</td>\n",
       "    </tr>\n",
       "    <tr>\n",
       "      <th>19</th>\n",
       "      <td>A12</td>\n",
       "      <td>9</td>\n",
       "      <td>A31</td>\n",
       "      <td>A40</td>\n",
       "      <td>1437</td>\n",
       "      <td>A62</td>\n",
       "      <td>A74</td>\n",
       "      <td>2</td>\n",
       "      <td>A93</td>\n",
       "      <td>A101</td>\n",
       "      <td>3</td>\n",
       "      <td>A124</td>\n",
       "      <td>29.0</td>\n",
       "      <td>A143</td>\n",
       "      <td>A152</td>\n",
       "      <td>1</td>\n",
       "      <td>NaN</td>\n",
       "      <td>1</td>\n",
       "      <td>A191</td>\n",
       "      <td>A201</td>\n",
       "      <td>2</td>\n",
       "    </tr>\n",
       "    <tr>\n",
       "      <th>886</th>\n",
       "      <td>A14</td>\n",
       "      <td>24</td>\n",
       "      <td>A34</td>\n",
       "      <td>A45</td>\n",
       "      <td>5507</td>\n",
       "      <td>A61</td>\n",
       "      <td>A75</td>\n",
       "      <td>3</td>\n",
       "      <td>A93</td>\n",
       "      <td>A101</td>\n",
       "      <td>4</td>\n",
       "      <td>A124</td>\n",
       "      <td>NaN</td>\n",
       "      <td>A143</td>\n",
       "      <td>A153</td>\n",
       "      <td>2</td>\n",
       "      <td>A173</td>\n",
       "      <td>1</td>\n",
       "      <td>A191</td>\n",
       "      <td>A201</td>\n",
       "      <td>1</td>\n",
       "    </tr>\n",
       "  </tbody>\n",
       "</table>\n",
       "</div>"
      ],
      "text/plain": [
       "    account_status  duration credit_history purpose  credit_amount savings  \\\n",
       "0              A11         6            A34     A40            860     A61   \n",
       "9              A11        18            A32     A43           1345     A61   \n",
       "19             A12         9            A31     A40           1437     A62   \n",
       "886            A14        24            A34     A45           5507     A61   \n",
       "\n",
       "    employment  installment_rate gender_and_marital_status guarantors  \\\n",
       "0          A75                 1                       A92       A101   \n",
       "9          A73                 4                       A94       A101   \n",
       "19         A74                 2                       A93       A101   \n",
       "886        A75                 3                       A93       A101   \n",
       "\n",
       "     residence_duration property   age other_installments housing_type  \\\n",
       "0                     4     A124   NaN               A143         A152   \n",
       "9                     3     A121  26.0               A141         A152   \n",
       "19                    3     A124  29.0               A143         A152   \n",
       "886                   4     A124   NaN               A143         A153   \n",
       "\n",
       "     number_of_credits occupation  number_of_dependants phone foreign_worker  \\\n",
       "0                    2       A173                     1  A192           A201   \n",
       "9                    1        NaN                     1  A191           A201   \n",
       "19                   1        NaN                     1  A191           A201   \n",
       "886                  2       A173                     1  A191           A201   \n",
       "\n",
       "     credit_risk  \n",
       "0              1  \n",
       "9              2  \n",
       "19             2  \n",
       "886            1  "
      ]
     },
     "execution_count": 48,
     "metadata": {},
     "output_type": "execute_result"
    }
   ],
   "source": [
    "# print rows with null values\n",
    "\n",
    "df_credit[df_credit.isna().any(axis=1)]"
   ]
  },
  {
   "cell_type": "markdown",
   "id": "da036b72",
   "metadata": {},
   "source": [
    "All of the null values are from foreign workers (A201). Was this random? <br> <br>\n",
    "Let's see how many foreign workers there are in the dataframe:"
   ]
  },
  {
   "cell_type": "code",
   "execution_count": 49,
   "id": "58edbb61",
   "metadata": {},
   "outputs": [
    {
     "data": {
      "text/plain": [
       "A201    963\n",
       "A202     37\n",
       "Name: foreign_worker, dtype: int64"
      ]
     },
     "execution_count": 49,
     "metadata": {},
     "output_type": "execute_result"
    }
   ],
   "source": [
    "df_credit.foreign_worker.value_counts()"
   ]
  },
  {
   "cell_type": "markdown",
   "id": "a6aaeb0c",
   "metadata": {},
   "source": [
    "Surprisingly, this dataset contains a large percentage of foreign workers (96.3%). Since only four rows are missing, it is better to drop them rather than spend the time imputing these values."
   ]
  },
  {
   "cell_type": "code",
   "execution_count": 50,
   "id": "cfea239c",
   "metadata": {},
   "outputs": [],
   "source": [
    "# drop rows with null values\n",
    "\n",
    "df_credit.drop(df_credit[df_credit.isna().any(axis=1)].index, inplace=True)"
   ]
  },
  {
   "cell_type": "markdown",
   "id": "b9863004",
   "metadata": {},
   "source": [
    "Next, I take a look at the unique values in all the columns and cross-check them with the provided PDF file."
   ]
  },
  {
   "cell_type": "code",
   "execution_count": 51,
   "id": "896aee47",
   "metadata": {},
   "outputs": [
    {
     "data": {
      "text/plain": [
       "account_status                                              A11, A14, A12, A13\n",
       "duration                     6, 12, 36, 21, 24, 48, 18, 10, 15, 9, 20, 54, ...\n",
       "credit_history                                         A32, A34, A31, A30, A33\n",
       "purpose                      A42, A40, A41, A43, A46, A44, A49, A45, A48, A410\n",
       "credit_amount                428, 1402, 14318, 1647, 4169, 4605, 1274, 3123...\n",
       "savings                                                A61, A63, A65, A62, A64\n",
       "employment                                             A75, A74, A73, A72, A71\n",
       "installment_rate                                                    2, 3, 4, 1\n",
       "gender_and_marital_status                                   A92, A93, A94, A91\n",
       "guarantors                                                    A101, A103, A102\n",
       "residence_duration                                                  1, 4, 2, 3\n",
       "property                                                A122, A123, A124, A121\n",
       "age                          49.0, 37.0, 57.0, 40.0, 28.0, 24.0, 27.0, 34.0...\n",
       "other_installments                                            A141, A143, A142\n",
       "housing_type                                                  A152, A151, A153\n",
       "number_of_credits                                                   1, 2, 3, 4\n",
       "occupation                                              A173, A174, A172, A171\n",
       "number_of_dependants                                                      1, 2\n",
       "phone                                                               A192, A191\n",
       "foreign_worker                                                      A201, A202\n",
       "credit_risk                                                           1, 2, -1\n",
       "dtype: object"
      ]
     },
     "execution_count": 51,
     "metadata": {},
     "output_type": "execute_result"
    }
   ],
   "source": [
    "# print unique values in all columns\n",
    "\n",
    "df_credit.apply(lambda col: ', '.join(map(str, col.unique())))"
   ]
  },
  {
   "cell_type": "markdown",
   "id": "00f7dab8",
   "metadata": {},
   "source": [
    "All rows except credit_risk have values as given in the PDF. The attribute credit_risk has an additional \"-1\" in some of the rows. Let's see how many rows have this value:"
   ]
  },
  {
   "cell_type": "code",
   "execution_count": 52,
   "id": "d56ea21f",
   "metadata": {},
   "outputs": [
    {
     "data": {
      "text/html": [
       "<div>\n",
       "<style scoped>\n",
       "    .dataframe tbody tr th:only-of-type {\n",
       "        vertical-align: middle;\n",
       "    }\n",
       "\n",
       "    .dataframe tbody tr th {\n",
       "        vertical-align: top;\n",
       "    }\n",
       "\n",
       "    .dataframe thead th {\n",
       "        text-align: right;\n",
       "    }\n",
       "</style>\n",
       "<table border=\"1\" class=\"dataframe\">\n",
       "  <thead>\n",
       "    <tr style=\"text-align: right;\">\n",
       "      <th></th>\n",
       "      <th>account_status</th>\n",
       "      <th>duration</th>\n",
       "      <th>credit_history</th>\n",
       "      <th>purpose</th>\n",
       "      <th>credit_amount</th>\n",
       "      <th>savings</th>\n",
       "      <th>employment</th>\n",
       "      <th>installment_rate</th>\n",
       "      <th>gender_and_marital_status</th>\n",
       "      <th>guarantors</th>\n",
       "      <th>residence_duration</th>\n",
       "      <th>property</th>\n",
       "      <th>age</th>\n",
       "      <th>other_installments</th>\n",
       "      <th>housing_type</th>\n",
       "      <th>number_of_credits</th>\n",
       "      <th>occupation</th>\n",
       "      <th>number_of_dependants</th>\n",
       "      <th>phone</th>\n",
       "      <th>foreign_worker</th>\n",
       "      <th>credit_risk</th>\n",
       "    </tr>\n",
       "  </thead>\n",
       "  <tbody>\n",
       "    <tr>\n",
       "      <th>4</th>\n",
       "      <td>A11</td>\n",
       "      <td>21</td>\n",
       "      <td>A31</td>\n",
       "      <td>A40</td>\n",
       "      <td>1647</td>\n",
       "      <td>A65</td>\n",
       "      <td>A73</td>\n",
       "      <td>4</td>\n",
       "      <td>A93</td>\n",
       "      <td>A101</td>\n",
       "      <td>2</td>\n",
       "      <td>A122</td>\n",
       "      <td>40.0</td>\n",
       "      <td>A143</td>\n",
       "      <td>A152</td>\n",
       "      <td>2</td>\n",
       "      <td>A172</td>\n",
       "      <td>2</td>\n",
       "      <td>A191</td>\n",
       "      <td>A201</td>\n",
       "      <td>-1</td>\n",
       "    </tr>\n",
       "    <tr>\n",
       "      <th>99</th>\n",
       "      <td>A11</td>\n",
       "      <td>18</td>\n",
       "      <td>A32</td>\n",
       "      <td>A40</td>\n",
       "      <td>1216</td>\n",
       "      <td>A61</td>\n",
       "      <td>A72</td>\n",
       "      <td>4</td>\n",
       "      <td>A92</td>\n",
       "      <td>A101</td>\n",
       "      <td>3</td>\n",
       "      <td>A123</td>\n",
       "      <td>23.0</td>\n",
       "      <td>A143</td>\n",
       "      <td>A151</td>\n",
       "      <td>1</td>\n",
       "      <td>A173</td>\n",
       "      <td>1</td>\n",
       "      <td>A192</td>\n",
       "      <td>A201</td>\n",
       "      <td>-1</td>\n",
       "    </tr>\n",
       "    <tr>\n",
       "      <th>989</th>\n",
       "      <td>A14</td>\n",
       "      <td>6</td>\n",
       "      <td>A34</td>\n",
       "      <td>A43</td>\n",
       "      <td>700</td>\n",
       "      <td>A65</td>\n",
       "      <td>A75</td>\n",
       "      <td>4</td>\n",
       "      <td>A93</td>\n",
       "      <td>A101</td>\n",
       "      <td>4</td>\n",
       "      <td>A124</td>\n",
       "      <td>36.0</td>\n",
       "      <td>A143</td>\n",
       "      <td>A153</td>\n",
       "      <td>2</td>\n",
       "      <td>A173</td>\n",
       "      <td>1</td>\n",
       "      <td>A191</td>\n",
       "      <td>A201</td>\n",
       "      <td>-1</td>\n",
       "    </tr>\n",
       "  </tbody>\n",
       "</table>\n",
       "</div>"
      ],
      "text/plain": [
       "    account_status  duration credit_history purpose  credit_amount savings  \\\n",
       "4              A11        21            A31     A40           1647     A65   \n",
       "99             A11        18            A32     A40           1216     A61   \n",
       "989            A14         6            A34     A43            700     A65   \n",
       "\n",
       "    employment  installment_rate gender_and_marital_status guarantors  \\\n",
       "4          A73                 4                       A93       A101   \n",
       "99         A72                 4                       A92       A101   \n",
       "989        A75                 4                       A93       A101   \n",
       "\n",
       "     residence_duration property   age other_installments housing_type  \\\n",
       "4                     2     A122  40.0               A143         A152   \n",
       "99                    3     A123  23.0               A143         A151   \n",
       "989                   4     A124  36.0               A143         A153   \n",
       "\n",
       "     number_of_credits occupation  number_of_dependants phone foreign_worker  \\\n",
       "4                    2       A172                     2  A191           A201   \n",
       "99                   1       A173                     1  A192           A201   \n",
       "989                  2       A173                     1  A191           A201   \n",
       "\n",
       "     credit_risk  \n",
       "4             -1  \n",
       "99            -1  \n",
       "989           -1  "
      ]
     },
     "execution_count": 52,
     "metadata": {},
     "output_type": "execute_result"
    }
   ],
   "source": [
    "# rows with -1 credit risk\n",
    "\n",
    "df_credit[df_credit['credit_risk']==-1]"
   ]
  },
  {
   "cell_type": "markdown",
   "id": "fb250b1a",
   "metadata": {},
   "source": [
    "Since I don't know what this category signifies *and* it's a target variable, I decided it's best to drop these rows."
   ]
  },
  {
   "cell_type": "code",
   "execution_count": 53,
   "id": "c666f4ba",
   "metadata": {},
   "outputs": [],
   "source": [
    "# drop rows with -1 credit risk\n",
    "\n",
    "df_credit.drop(df_credit[df_credit['credit_risk'] == -1].index, inplace = True)"
   ]
  },
  {
   "cell_type": "markdown",
   "id": "94e1911d",
   "metadata": {},
   "source": [
    "I then check for duplicate rows in the dataset:"
   ]
  },
  {
   "cell_type": "code",
   "execution_count": 54,
   "id": "bc7ae1c8",
   "metadata": {},
   "outputs": [
    {
     "data": {
      "text/html": [
       "<div>\n",
       "<style scoped>\n",
       "    .dataframe tbody tr th:only-of-type {\n",
       "        vertical-align: middle;\n",
       "    }\n",
       "\n",
       "    .dataframe tbody tr th {\n",
       "        vertical-align: top;\n",
       "    }\n",
       "\n",
       "    .dataframe thead th {\n",
       "        text-align: right;\n",
       "    }\n",
       "</style>\n",
       "<table border=\"1\" class=\"dataframe\">\n",
       "  <thead>\n",
       "    <tr style=\"text-align: right;\">\n",
       "      <th></th>\n",
       "      <th>account_status</th>\n",
       "      <th>duration</th>\n",
       "      <th>credit_history</th>\n",
       "      <th>purpose</th>\n",
       "      <th>credit_amount</th>\n",
       "      <th>savings</th>\n",
       "      <th>employment</th>\n",
       "      <th>installment_rate</th>\n",
       "      <th>gender_and_marital_status</th>\n",
       "      <th>guarantors</th>\n",
       "      <th>residence_duration</th>\n",
       "      <th>property</th>\n",
       "      <th>age</th>\n",
       "      <th>other_installments</th>\n",
       "      <th>housing_type</th>\n",
       "      <th>number_of_credits</th>\n",
       "      <th>occupation</th>\n",
       "      <th>number_of_dependants</th>\n",
       "      <th>phone</th>\n",
       "      <th>foreign_worker</th>\n",
       "      <th>credit_risk</th>\n",
       "    </tr>\n",
       "  </thead>\n",
       "  <tbody>\n",
       "  </tbody>\n",
       "</table>\n",
       "</div>"
      ],
      "text/plain": [
       "Empty DataFrame\n",
       "Columns: [account_status, duration, credit_history, purpose, credit_amount, savings, employment, installment_rate, gender_and_marital_status, guarantors, residence_duration, property, age, other_installments, housing_type, number_of_credits, occupation, number_of_dependants, phone, foreign_worker, credit_risk]\n",
       "Index: []"
      ]
     },
     "execution_count": 54,
     "metadata": {},
     "output_type": "execute_result"
    }
   ],
   "source": [
    "# are there duplicate rows\n",
    "\n",
    "df_credit[df_credit.duplicated()]"
   ]
  },
  {
   "cell_type": "markdown",
   "id": "fcf28f84",
   "metadata": {},
   "source": [
    "### 2.2 Understanding the numerical variables"
   ]
  },
  {
   "cell_type": "markdown",
   "id": "292f503b",
   "metadata": {},
   "source": [
    "Next, let's take a closer look at the numerical attributes of interest in the dataset, starting with describe():"
   ]
  },
  {
   "cell_type": "code",
   "execution_count": 55,
   "id": "24f93dfd",
   "metadata": {},
   "outputs": [
    {
     "data": {
      "text/html": [
       "<div>\n",
       "<style scoped>\n",
       "    .dataframe tbody tr th:only-of-type {\n",
       "        vertical-align: middle;\n",
       "    }\n",
       "\n",
       "    .dataframe tbody tr th {\n",
       "        vertical-align: top;\n",
       "    }\n",
       "\n",
       "    .dataframe thead th {\n",
       "        text-align: right;\n",
       "    }\n",
       "</style>\n",
       "<table border=\"1\" class=\"dataframe\">\n",
       "  <thead>\n",
       "    <tr style=\"text-align: right;\">\n",
       "      <th></th>\n",
       "      <th>duration</th>\n",
       "      <th>credit_amount</th>\n",
       "      <th>age</th>\n",
       "    </tr>\n",
       "  </thead>\n",
       "  <tbody>\n",
       "    <tr>\n",
       "      <th>count</th>\n",
       "      <td>993.000000</td>\n",
       "      <td>993.000000</td>\n",
       "      <td>993.000000</td>\n",
       "    </tr>\n",
       "    <tr>\n",
       "      <th>mean</th>\n",
       "      <td>20.947633</td>\n",
       "      <td>3281.516616</td>\n",
       "      <td>35.557905</td>\n",
       "    </tr>\n",
       "    <tr>\n",
       "      <th>std</th>\n",
       "      <td>12.075672</td>\n",
       "      <td>2827.074206</td>\n",
       "      <td>11.398081</td>\n",
       "    </tr>\n",
       "    <tr>\n",
       "      <th>min</th>\n",
       "      <td>4.000000</td>\n",
       "      <td>250.000000</td>\n",
       "      <td>19.000000</td>\n",
       "    </tr>\n",
       "    <tr>\n",
       "      <th>25%</th>\n",
       "      <td>12.000000</td>\n",
       "      <td>1372.000000</td>\n",
       "      <td>27.000000</td>\n",
       "    </tr>\n",
       "    <tr>\n",
       "      <th>50%</th>\n",
       "      <td>18.000000</td>\n",
       "      <td>2325.000000</td>\n",
       "      <td>33.000000</td>\n",
       "    </tr>\n",
       "    <tr>\n",
       "      <th>75%</th>\n",
       "      <td>24.000000</td>\n",
       "      <td>3973.000000</td>\n",
       "      <td>42.000000</td>\n",
       "    </tr>\n",
       "    <tr>\n",
       "      <th>max</th>\n",
       "      <td>72.000000</td>\n",
       "      <td>18424.000000</td>\n",
       "      <td>75.000000</td>\n",
       "    </tr>\n",
       "  </tbody>\n",
       "</table>\n",
       "</div>"
      ],
      "text/plain": [
       "         duration  credit_amount         age\n",
       "count  993.000000     993.000000  993.000000\n",
       "mean    20.947633    3281.516616   35.557905\n",
       "std     12.075672    2827.074206   11.398081\n",
       "min      4.000000     250.000000   19.000000\n",
       "25%     12.000000    1372.000000   27.000000\n",
       "50%     18.000000    2325.000000   33.000000\n",
       "75%     24.000000    3973.000000   42.000000\n",
       "max     72.000000   18424.000000   75.000000"
      ]
     },
     "execution_count": 55,
     "metadata": {},
     "output_type": "execute_result"
    }
   ],
   "source": [
    "# statistical properties of numerical attributes duration, credit_amount and age\n",
    "\n",
    "df_credit.describe()[['duration', 'credit_amount', 'age']]"
   ]
  },
  {
   "cell_type": "markdown",
   "id": "74e71cbb",
   "metadata": {},
   "source": [
    "Although this gives a good statistical overview, it's easier to understand the spread of these variables using boxplots:"
   ]
  },
  {
   "cell_type": "code",
   "execution_count": 56,
   "id": "7b0b2b9f",
   "metadata": {},
   "outputs": [
    {
     "data": {
      "image/png": "[encoded data removed]",
      "text/plain": [
       "<Figure size 432x504 with 1 Axes>"
      ]
     },
     "metadata": {},
     "output_type": "display_data"
    },
    {
     "data": {
      "image/png": "[encoded data removed]",
      "text/plain": [
       "<Figure size 432x504 with 1 Axes>"
      ]
     },
     "metadata": {},
     "output_type": "display_data"
    },
    {
     "data": {
      "image/png": "[encoded data removed]",
      "text/plain": [
       "<Figure size 432x504 with 1 Axes>"
      ]
     },
     "metadata": {},
     "output_type": "display_data"
    }
   ],
   "source": [
    "for p in ['credit_amount', 'duration', 'age']:\n",
    "    plt.figure(figsize=(6,7))\n",
    "    sns.boxplot(y=df_credit[p], width=0.2, color='#94B0C0', linewidth=1.5)"
   ]
  },
  {
   "cell_type": "markdown",
   "id": "9969b328",
   "metadata": {},
   "source": [
    "- credit_amount : 75% of applicants have less than 4000€ in credit. But we do have some applicants with very large credit amounts. It would be interesting to see later how this affects the credit risk.\n",
    "- duration : 50% of applicants have loan duration between 12 and 24 months, but we also have a few applicants with 60+ months\n",
    "- age : applicants have a median age of 33 years. The long upper whisker indicates a large variance among the greater age values.  \n",
    "The long upper whisker in all three plots also indicate the skewness of the distribution"
   ]
  },
  {
   "cell_type": "markdown",
   "id": "df7db4d0",
   "metadata": {},
   "source": [
    "The skewness of the plots can be better visualized using histograms, as shown below:"
   ]
  },
  {
   "cell_type": "code",
   "execution_count": 57,
   "id": "7ad4b142",
   "metadata": {},
   "outputs": [
    {
     "data": {
      "image/png": "[encoded data removed]",
      "text/plain": [
       "<Figure size 864x864 with 3 Axes>"
      ]
     },
     "metadata": {},
     "output_type": "display_data"
    }
   ],
   "source": [
    "fig, axs = plt.subplots(2, 2, figsize=(12, 12))\n",
    "\n",
    "sns.histplot(data=df_credit, x=\"credit_amount\", kde=True, color=\"skyblue\", ax=axs[0, 0])\n",
    "sns.histplot(data=df_credit, x=\"age\", kde=True, color=\"olive\", ax=axs[0, 1])\n",
    "sns.histplot(data=df_credit, x=\"duration\", kde=True, color=\"teal\", ax=axs[1, 0])\n",
    "fig.delaxes(axs[1,1])"
   ]
  },
  {
   "cell_type": "markdown",
   "id": "fd674e72",
   "metadata": {},
   "source": [
    "All three features (especially credit_amount) have tail-heavy histograms. This should be converted to log-scale later to make the distribution more normal. Otherwise, it's harder for the Machine Learning algorithm to detect patterns."
   ]
  },
  {
   "cell_type": "markdown",
   "id": "ad8d6436",
   "metadata": {},
   "source": [
    "#### 2.2.1 Correlation heatmap"
   ]
  },
  {
   "cell_type": "markdown",
   "id": "f14f1c64",
   "metadata": {},
   "source": [
    "Next, I look for the correlation between the features by plotting a correlation heatmap."
   ]
  },
  {
   "cell_type": "code",
   "execution_count": 59,
   "id": "8439baca",
   "metadata": {},
   "outputs": [
    {
     "data": {
      "text/plain": [
       "<AxesSubplot:>"
      ]
     },
     "execution_count": 59,
     "metadata": {},
     "output_type": "execute_result"
    },
    {
     "data": {
      "image/png": "[encoded data removed]",
      "text/plain": [
       "<Figure size 648x504 with 2 Axes>"
      ]
     },
     "metadata": {},
     "output_type": "display_data"
    }
   ],
   "source": [
    "sns.heatmap(df_credit.corr(), annot = True, fmt='.2g',cmap= 'coolwarm')"
   ]
  },
  {
   "cell_type": "markdown",
   "id": "d8d5e2c0",
   "metadata": {},
   "source": [
    "Most variables are not correlated, which is great for our ML algorithm because it introduces less bias and makes the learning algorithm faster.  \n",
    "<br>We see that credit amount and duration have a positive correlation, i.e., higher credit amounts need a longer time to be paid back. Let's plot the two and take a look at how they affect credit risk:"
   ]
  },
  {
   "cell_type": "code",
   "execution_count": 60,
   "id": "5e96a1aa",
   "metadata": {},
   "outputs": [
    {
     "data": {
      "text/plain": [
       "<seaborn.axisgrid.FacetGrid at 0x7f6715aae7f0>"
      ]
     },
     "execution_count": 60,
     "metadata": {},
     "output_type": "execute_result"
    },
    {
     "data": {
      "image/png": "[encoded data removed]",
      "text/plain": [
       "<Figure size 779.625x360 with 1 Axes>"
      ]
     },
     "metadata": {},
     "output_type": "display_data"
    }
   ],
   "source": [
    "df_credit['log_credit_amount'] = np.log(df_credit['credit_amount'])\n",
    "df_credit.drop('credit_amount', axis=1, inplace=True)\n",
    "\n",
    "sns.catplot(data=df_credit, \n",
    "            x=\"duration\", y=\"log_credit_amount\", \n",
    "            hue=\"credit_risk\", \n",
    "            palette=[\"#749059\",\"#DD4E48\"], \n",
    "            height=5, aspect=2).set(title='Distribution of credit amount by duration')"
   ]
  },
  {
   "cell_type": "markdown",
   "id": "87cd0943",
   "metadata": {},
   "source": [
    "The credit amount is converted to log scale before plotting. We clearly see a linear relationship between the credit amount and duration. It's interesting to note that we see more green dots (aka \"good\" credit risk) on the left hand side of the plot. So even when applicants have large credit amounts, if the duration is lower, they still have good credit risk. And on the right hand side of the plot, we see more red dots (aka \"bad\" credit risk) - this makes sense as larger credit amounts with long duration to pay them back makes you more susceptible to being classified as having bad credit risk."
   ]
  },
  {
   "cell_type": "markdown",
   "id": "9ff91a89",
   "metadata": {},
   "source": [
    "### 2.3 Understanding the categorical variables"
   ]
  },
  {
   "cell_type": "markdown",
   "id": "ff6a9cb1",
   "metadata": {},
   "source": [
    "Next, we'll take a closer look at some of the categorical variables in the dataset. Beginning with the distribution of the target variable itself:"
   ]
  },
  {
   "cell_type": "code",
   "execution_count": 63,
   "id": "a88320dd",
   "metadata": {},
   "outputs": [
    {
     "data": {
      "text/plain": [
       "<AxesSubplot:title={'center':'Distribution of target variable'}, xlabel='Credit Risk', ylabel='Count'>"
      ]
     },
     "execution_count": 63,
     "metadata": {},
     "output_type": "execute_result"
    },
    {
     "data": {
      "image/png": "[encoded data removed]",
      "text/plain": [
       "<Figure size 576x360 with 1 Axes>"
      ]
     },
     "metadata": {},
     "output_type": "display_data"
    }
   ],
   "source": [
    "# target variable distribution\n",
    "\n",
    "df_credit['credit_risk'].value_counts().plot(kind='bar',\n",
    "                                             figsize=(8,5),\n",
    "                                             title=\"Distribution of target variable\",\n",
    "                                             xlabel=\"Credit Risk\",\n",
    "                                             ylabel=\"Count\",\n",
    "                                             color=[\"#749059\",\"#A34541\"])"
   ]
  },
  {
   "cell_type": "markdown",
   "id": "8a7eab47",
   "metadata": {},
   "source": [
    "Here, green denotes a good credit risk, while red denotes a bad credit risk. We see that most applicants in this dataset have a good credit risk."
   ]
  },
  {
   "cell_type": "markdown",
   "id": "33883239",
   "metadata": {},
   "source": [
    "Next, let's take a look at the distribution of credit_risk across different variables.\n",
    "<br>\n",
    "Starting with housing status:"
   ]
  },
  {
   "cell_type": "code",
   "execution_count": 64,
   "id": "8e8ddc68",
   "metadata": {},
   "outputs": [
    {
     "data": {
      "text/plain": [
       "<AxesSubplot:xlabel='housing_type', ylabel='count'>"
      ]
     },
     "execution_count": 64,
     "metadata": {},
     "output_type": "execute_result"
    },
    {
     "data": {
      "image/png": "[encoded data removed]",
      "text/plain": [
       "<Figure size 576x432 with 1 Axes>"
      ]
     },
     "metadata": {},
     "output_type": "display_data"
    }
   ],
   "source": [
    "# housing status and credit risk\n",
    "\n",
    "plt.figure(figsize=(8,6))\n",
    "sns.countplot(x=\"housing_type\", \n",
    "              hue=\"credit_risk\", \n",
    "              data=df_credit, \n",
    "              palette=[\"#749059\",\"#A34541\"], \n",
    "              order=['A151','A152', 'A153'])"
   ]
  },
  {
   "cell_type": "markdown",
   "id": "054bcddb",
   "metadata": {},
   "source": [
    "Quick note:  \n",
    "A151 : rent <br>\n",
    "A152 : own <br>\n",
    "A153 : for free"
   ]
  },
  {
   "cell_type": "markdown",
   "id": "46e36c77",
   "metadata": {},
   "source": [
    "This is where I realized that it makes more sense to look at relative values rather than absolute ones so I plotted the percentage of each housing type that has a good credit risk: "
   ]
  },
  {
   "cell_type": "code",
   "execution_count": 65,
   "id": "e0a0d9ad",
   "metadata": {},
   "outputs": [
    {
     "data": {
      "text/plain": [
       "Text(0, 0.5, 'Percentage')"
      ]
     },
     "execution_count": 65,
     "metadata": {},
     "output_type": "execute_result"
    },
    {
     "data": {
      "image/png": "[encoded data removed]",
      "text/plain": [
       "<Figure size 576x432 with 1 Axes>"
      ]
     },
     "metadata": {},
     "output_type": "display_data"
    }
   ],
   "source": [
    "credit_by_housing_df = df_credit.groupby(['credit_risk', 'housing_type']).size().unstack()\n",
    "\n",
    "plt.figure(figsize=(8,6))\n",
    "\n",
    "(credit_by_housing_df / credit_by_housing_df.sum()).iloc[0].plot.bar(ylim=[0, 1], grid=True, color='#6F8490')\n",
    "plt.title('Success rate per housing type')\n",
    "plt.ylabel('Percentage')"
   ]
  },
  {
   "cell_type": "markdown",
   "id": "17e2c05e",
   "metadata": {},
   "source": [
    "We see here that applicants who own houses (A152) are ~15% more likely to have good credit risk. This makes sense since asset ownership is highly related to credit worthiness.  \n",
    "To make this easier, I wrote a function that takes the feature name as input and plots the percentage of each category with good credit risk:"
   ]
  },
  {
   "cell_type": "code",
   "execution_count": 66,
   "id": "2b2bd39a",
   "metadata": {},
   "outputs": [],
   "source": [
    "def credit_dist(col_name):\n",
    "    df_new = df_credit.groupby(['credit_risk', col_name]).size().unstack()\n",
    "    fig = plt.figure(figsize=(8,6))\n",
    "    (df_new / df_new.sum()).iloc[0].plot.bar(ylim=[0,1], grid=True, color='#6F8490')\n",
    "    plt.title('Success rate per {}'.format(col_name))\n",
    "    plt.ylabel('Percentage')"
   ]
  },
  {
   "cell_type": "markdown",
   "id": "bf8c6ca0",
   "metadata": {},
   "source": [
    "Moving on to **occupation and credit risk**:  \n",
    "<br>A171: unemployed / unskilled - non-resident\n",
    "<br>A172: unskilled - resident\n",
    "<br>A173: skilled employee / official\n",
    "<br>A174: management/self-employed/highly qualified employee/officer"
   ]
  },
  {
   "cell_type": "code",
   "execution_count": 67,
   "id": "3d0dd7df",
   "metadata": {},
   "outputs": [
    {
     "data": {
      "image/png": "[encoded data removed]",
      "text/plain": [
       "<Figure size 576x432 with 1 Axes>"
      ]
     },
     "metadata": {},
     "output_type": "display_data"
    }
   ],
   "source": [
    "credit_dist('occupation')"
   ]
  },
  {
   "cell_type": "markdown",
   "id": "4eceb31f",
   "metadata": {},
   "source": [
    "Surprisingly, there doesn't seem to be a big difference amongst applicants with different types of occupation. I would've guessed that applicants who are skilled and at management level would be more likely to have good credit risk than applicants who are unemployed or unskilled. Huh."
   ]
  },
  {
   "cell_type": "markdown",
   "id": "4484c7f8",
   "metadata": {},
   "source": [
    "Next, looking at **checking account and credit risk:**\n",
    "<br>A11: . . . < 0 €\n",
    "<br>A12: 0 <= . . . < 200 €\n",
    "<br>A13: . . . >= 200 € / salary assignments for at least 1 year\n",
    "<br>A14: no checking account"
   ]
  },
  {
   "cell_type": "code",
   "execution_count": 68,
   "id": "94d8e9de",
   "metadata": {},
   "outputs": [
    {
     "data": {
      "image/png": "[encoded data removed]",
      "text/plain": [
       "<Figure size 576x432 with 1 Axes>"
      ]
     },
     "metadata": {},
     "output_type": "display_data"
    }
   ],
   "source": [
    "credit_dist('account_status')"
   ]
  },
  {
   "cell_type": "markdown",
   "id": "eef574d8",
   "metadata": {},
   "source": [
    "Here, we see that the more money there is in the applicant's checking account, the more likely they are to have good credit risk - again, nothing surprising here! But it is strange that the highest percentage of applicants have no checking accounts, but still have good credit risk."
   ]
  },
  {
   "cell_type": "markdown",
   "id": "ad56bc17",
   "metadata": {},
   "source": [
    "Moving on to **savings account and credit risk:**\n",
    "<br>A61: . . . < 100 €\n",
    "<br>A62: 100 <= . . . < 500 €\n",
    "<br>A63: 500 <= . . . < 1000 €\n",
    "<br>A64: .. >= 1000 €\n",
    "<br>A65: unknown / no savings account"
   ]
  },
  {
   "cell_type": "code",
   "execution_count": 69,
   "id": "0e05e6b4",
   "metadata": {},
   "outputs": [
    {
     "data": {
      "image/png": "[encoded data removed]",
      "text/plain": [
       "<Figure size 576x432 with 1 Axes>"
      ]
     },
     "metadata": {},
     "output_type": "display_data"
    }
   ],
   "source": [
    "credit_dist('savings')"
   ]
  },
  {
   "cell_type": "markdown",
   "id": "2b25e599",
   "metadata": {},
   "source": [
    "Again, applicants with more money saved up have a higher chance of having good credit risk."
   ]
  },
  {
   "cell_type": "markdown",
   "id": "d43ce6c4",
   "metadata": {},
   "source": [
    "## 3. Feature Engineering"
   ]
  },
  {
   "cell_type": "markdown",
   "id": "af876ce7",
   "metadata": {},
   "source": [
    "Next, dummy variables are created for each possible value of each feature variable using one-hot encoding. Afterwards, the original columns are dropped."
   ]
  },
  {
   "cell_type": "code",
   "execution_count": 71,
   "id": "60ebfc05",
   "metadata": {},
   "outputs": [],
   "source": [
    "# One-Hot Encoding\n",
    "\n",
    "dummies_columns = ['occupation', 'purpose', 'housing_type', 'savings', 'account_status', \n",
    "                   'credit_history', 'employment', 'installment_rate', 'gender_and_marital_status', \n",
    "                   'guarantors', 'property', 'phone', 'foreign_worker', 'other_installments']\n",
    "\n",
    "for col in dummies_columns:\n",
    "    df_credit = df_credit.merge(pd.get_dummies(df_credit[col], \n",
    "                                               drop_first=True, \n",
    "                                               prefix=str(col)), \n",
    "                                left_index=True, right_index=True)"
   ]
  },
  {
   "cell_type": "code",
   "execution_count": 72,
   "id": "7a3a36a8",
   "metadata": {},
   "outputs": [],
   "source": [
    "# drop the dummy columns\n",
    "\n",
    "df_credit.drop(dummies_columns, axis=1, inplace=True)"
   ]
  },
  {
   "cell_type": "markdown",
   "id": "4edc8d5d",
   "metadata": {},
   "source": [
    "## 4. Models"
   ]
  },
  {
   "cell_type": "markdown",
   "id": "d5c33aee",
   "metadata": {},
   "source": [
    "In this section, I will try out a few different models and evaluate them based on the recall and ROC curve. As a starting point, I will use a Linear Support Vector Classifier (SVC) as suggested by : https://scikit-learn.org/stable/tutorial/machine_learning_map/index.html "
   ]
  },
  {
   "cell_type": "markdown",
   "id": "51ef8a9d",
   "metadata": {},
   "source": [
    "First, we split the dataset into train and test sets (70-30)."
   ]
  },
  {
   "cell_type": "code",
   "execution_count": 73,
   "id": "67a07cba",
   "metadata": {},
   "outputs": [],
   "source": [
    "# split into train and test data sets\n",
    "\n",
    "X = df_credit.drop('credit_risk', axis=1).values  # drop target attribute\n",
    "y = df_credit['credit_risk'].values\n",
    "\n",
    "X_train, X_test, y_train, y_test = train_test_split(X, y, test_size=0.30, random_state=42)"
   ]
  },
  {
   "cell_type": "markdown",
   "id": "55de6eb0",
   "metadata": {},
   "source": [
    "### 4.1 Support Vector Machine"
   ]
  },
  {
   "cell_type": "markdown",
   "id": "686121d9",
   "metadata": {},
   "source": [
    "Before we create the SVM classifier, we need to standardize the features using StandardScaler() by removing the mean and scaling to unit variance."
   ]
  },
  {
   "cell_type": "code",
   "execution_count": 74,
   "id": "3f881e1f",
   "metadata": {},
   "outputs": [],
   "source": [
    "# standardization\n",
    "scaler = StandardScaler()\n",
    "X_train = scaler.fit_transform(X_train)\n",
    "X_test = scaler.transform(X_test)\n",
    "\n",
    "# create an svm classifier\n",
    "svc = svm.SVC(kernel='linear')\n",
    "\n",
    "# train the model using the training set\n",
    "svc.fit(X_train, y_train)\n",
    "\n",
    "# predict the response for test dataset\n",
    "y_pred_svc = svc.predict(X_test)"
   ]
  },
  {
   "cell_type": "code",
   "execution_count": 75,
   "id": "13e9642d",
   "metadata": {},
   "outputs": [
    {
     "name": "stdout",
     "output_type": "stream",
     "text": [
      "Accuracy:  0.7449664429530202\n",
      "              precision    recall  f1-score   support\n",
      "\n",
      "           1       0.77      0.90      0.83       209\n",
      "           2       0.62      0.38      0.47        89\n",
      "\n",
      "    accuracy                           0.74       298\n",
      "   macro avg       0.70      0.64      0.65       298\n",
      "weighted avg       0.73      0.74      0.72       298\n",
      "\n"
     ]
    }
   ],
   "source": [
    "print(\"Accuracy: \", accuracy_score(y_pred_svc, y_test))\n",
    "print(classification_report(y_test, y_pred_svc))"
   ]
  },
  {
   "cell_type": "markdown",
   "id": "b23342ef",
   "metadata": {},
   "source": [
    "The recall for the category \"2\" or \"bad credit risk\" is quite low - since it's more important to be able to correctly predict which applicants have bad risk, I will try hyperparameter tuning to see if I can improve this value."
   ]
  },
  {
   "cell_type": "code",
   "execution_count": 76,
   "id": "7a6edec8",
   "metadata": {
    "collapsed": true
   },
   "outputs": [
    {
     "name": "stdout",
     "output_type": "stream",
     "text": [
      "Fitting 5 folds for each of 49 candidates, totalling 245 fits\n",
      "[CV 1/5] END ..................C=0.1, gamma=0.1;, score=0.857 total time=   0.0s\n",
      "[CV 2/5] END ..................C=0.1, gamma=0.1;, score=0.878 total time=   0.0s\n",
      "[CV 3/5] END ..................C=0.1, gamma=0.1;, score=0.888 total time=   0.0s\n",
      "[CV 4/5] END ..................C=0.1, gamma=0.1;, score=0.918 total time=   0.0s\n",
      "[CV 5/5] END ..................C=0.1, gamma=0.1;, score=0.907 total time=   0.0s\n",
      "[CV 1/5] END ..................C=0.1, gamma=0.5;, score=0.857 total time=   0.0s\n",
      "[CV 2/5] END ..................C=0.1, gamma=0.5;, score=0.878 total time=   0.0s\n",
      "[CV 3/5] END ..................C=0.1, gamma=0.5;, score=0.888 total time=   0.0s\n",
      "[CV 4/5] END ..................C=0.1, gamma=0.5;, score=0.918 total time=   0.0s\n",
      "[CV 5/5] END ..................C=0.1, gamma=0.5;, score=0.907 total time=   0.0s\n",
      "[CV 1/5] END ....................C=0.1, gamma=1;, score=0.857 total time=   0.0s\n",
      "[CV 2/5] END ....................C=0.1, gamma=1;, score=0.878 total time=   0.0s\n",
      "[CV 3/5] END ....................C=0.1, gamma=1;, score=0.888 total time=   0.0s\n",
      "[CV 4/5] END ....................C=0.1, gamma=1;, score=0.918 total time=   0.0s\n",
      "[CV 5/5] END ....................C=0.1, gamma=1;, score=0.907 total time=   0.0s\n",
      "[CV 1/5] END ....................C=0.1, gamma=5;, score=0.857 total time=   0.0s\n",
      "[CV 2/5] END ....................C=0.1, gamma=5;, score=0.878 total time=   0.0s\n",
      "[CV 3/5] END ....................C=0.1, gamma=5;, score=0.888 total time=   0.0s\n",
      "[CV 4/5] END ....................C=0.1, gamma=5;, score=0.918 total time=   0.0s\n",
      "[CV 5/5] END ....................C=0.1, gamma=5;, score=0.907 total time=   0.0s\n",
      "[CV 1/5] END ...................C=0.1, gamma=10;, score=0.857 total time=   0.0s\n",
      "[CV 2/5] END ...................C=0.1, gamma=10;, score=0.878 total time=   0.0s\n",
      "[CV 3/5] END ...................C=0.1, gamma=10;, score=0.888 total time=   0.0s\n",
      "[CV 4/5] END ...................C=0.1, gamma=10;, score=0.918 total time=   0.0s\n",
      "[CV 5/5] END ...................C=0.1, gamma=10;, score=0.907 total time=   0.0s\n",
      "[CV 1/5] END ...................C=0.1, gamma=50;, score=0.857 total time=   0.0s\n",
      "[CV 2/5] END ...................C=0.1, gamma=50;, score=0.878 total time=   0.0s\n",
      "[CV 3/5] END ...................C=0.1, gamma=50;, score=0.888 total time=   0.0s\n",
      "[CV 4/5] END ...................C=0.1, gamma=50;, score=0.918 total time=   0.0s\n",
      "[CV 5/5] END ...................C=0.1, gamma=50;, score=0.907 total time=   0.0s\n",
      "[CV 1/5] END ..................C=0.1, gamma=100;, score=0.857 total time=   0.0s\n",
      "[CV 2/5] END ..................C=0.1, gamma=100;, score=0.878 total time=   0.0s\n",
      "[CV 3/5] END ..................C=0.1, gamma=100;, score=0.888 total time=   0.0s\n",
      "[CV 4/5] END ..................C=0.1, gamma=100;, score=0.918 total time=   0.0s\n",
      "[CV 5/5] END ..................C=0.1, gamma=100;, score=0.907 total time=   0.0s\n",
      "[CV 1/5] END ..................C=0.5, gamma=0.1;, score=0.857 total time=   0.0s\n",
      "[CV 2/5] END ..................C=0.5, gamma=0.1;, score=0.816 total time=   0.0s\n",
      "[CV 3/5] END ..................C=0.5, gamma=0.1;, score=0.878 total time=   0.0s\n",
      "[CV 4/5] END ..................C=0.5, gamma=0.1;, score=0.866 total time=   0.0s\n",
      "[CV 5/5] END ..................C=0.5, gamma=0.1;, score=0.856 total time=   0.0s\n",
      "[CV 1/5] END ..................C=0.5, gamma=0.5;, score=0.857 total time=   0.0s\n",
      "[CV 2/5] END ..................C=0.5, gamma=0.5;, score=0.816 total time=   0.0s\n",
      "[CV 3/5] END ..................C=0.5, gamma=0.5;, score=0.878 total time=   0.0s\n",
      "[CV 4/5] END ..................C=0.5, gamma=0.5;, score=0.866 total time=   0.0s\n",
      "[CV 5/5] END ..................C=0.5, gamma=0.5;, score=0.856 total time=   0.0s\n",
      "[CV 1/5] END ....................C=0.5, gamma=1;, score=0.857 total time=   0.0s\n",
      "[CV 2/5] END ....................C=0.5, gamma=1;, score=0.816 total time=   0.0s\n",
      "[CV 3/5] END ....................C=0.5, gamma=1;, score=0.878 total time=   0.0s\n",
      "[CV 4/5] END ....................C=0.5, gamma=1;, score=0.866 total time=   0.0s\n",
      "[CV 5/5] END ....................C=0.5, gamma=1;, score=0.856 total time=   0.0s\n",
      "[CV 1/5] END ....................C=0.5, gamma=5;, score=0.857 total time=   0.0s\n",
      "[CV 2/5] END ....................C=0.5, gamma=5;, score=0.816 total time=   0.0s\n",
      "[CV 3/5] END ....................C=0.5, gamma=5;, score=0.878 total time=   0.0s\n",
      "[CV 4/5] END ....................C=0.5, gamma=5;, score=0.866 total time=   0.0s\n",
      "[CV 5/5] END ....................C=0.5, gamma=5;, score=0.856 total time=   0.0s\n",
      "[CV 1/5] END ...................C=0.5, gamma=10;, score=0.857 total time=   0.0s\n",
      "[CV 2/5] END ...................C=0.5, gamma=10;, score=0.816 total time=   0.0s\n",
      "[CV 3/5] END ...................C=0.5, gamma=10;, score=0.878 total time=   0.0s\n",
      "[CV 4/5] END ...................C=0.5, gamma=10;, score=0.866 total time=   0.0s\n",
      "[CV 5/5] END ...................C=0.5, gamma=10;, score=0.856 total time=   0.0s\n",
      "[CV 1/5] END ...................C=0.5, gamma=50;, score=0.857 total time=   0.0s\n",
      "[CV 2/5] END ...................C=0.5, gamma=50;, score=0.816 total time=   0.0s\n",
      "[CV 3/5] END ...................C=0.5, gamma=50;, score=0.878 total time=   0.0s\n",
      "[CV 4/5] END ...................C=0.5, gamma=50;, score=0.866 total time=   0.0s\n",
      "[CV 5/5] END ...................C=0.5, gamma=50;, score=0.856 total time=   0.0s\n",
      "[CV 1/5] END ..................C=0.5, gamma=100;, score=0.857 total time=   0.0s\n",
      "[CV 2/5] END ..................C=0.5, gamma=100;, score=0.816 total time=   0.0s\n",
      "[CV 3/5] END ..................C=0.5, gamma=100;, score=0.878 total time=   0.0s\n",
      "[CV 4/5] END ..................C=0.5, gamma=100;, score=0.866 total time=   0.0s\n",
      "[CV 5/5] END ..................C=0.5, gamma=100;, score=0.856 total time=   0.0s\n",
      "[CV 1/5] END ....................C=1, gamma=0.1;, score=0.857 total time=   0.1s\n",
      "[CV 2/5] END ....................C=1, gamma=0.1;, score=0.827 total time=   0.1s\n",
      "[CV 3/5] END ....................C=1, gamma=0.1;, score=0.878 total time=   0.0s\n",
      "[CV 4/5] END ....................C=1, gamma=0.1;, score=0.866 total time=   0.0s\n",
      "[CV 5/5] END ....................C=1, gamma=0.1;, score=0.856 total time=   0.1s\n",
      "[CV 1/5] END ....................C=1, gamma=0.5;, score=0.857 total time=   0.1s\n",
      "[CV 2/5] END ....................C=1, gamma=0.5;, score=0.827 total time=   0.1s\n",
      "[CV 3/5] END ....................C=1, gamma=0.5;, score=0.878 total time=   0.0s\n",
      "[CV 4/5] END ....................C=1, gamma=0.5;, score=0.866 total time=   0.0s\n",
      "[CV 5/5] END ....................C=1, gamma=0.5;, score=0.856 total time=   0.1s\n",
      "[CV 1/5] END ......................C=1, gamma=1;, score=0.857 total time=   0.1s\n",
      "[CV 2/5] END ......................C=1, gamma=1;, score=0.827 total time=   0.1s\n",
      "[CV 3/5] END ......................C=1, gamma=1;, score=0.878 total time=   0.0s\n",
      "[CV 4/5] END ......................C=1, gamma=1;, score=0.866 total time=   0.0s\n",
      "[CV 5/5] END ......................C=1, gamma=1;, score=0.856 total time=   0.1s\n",
      "[CV 1/5] END ......................C=1, gamma=5;, score=0.857 total time=   0.1s\n",
      "[CV 2/5] END ......................C=1, gamma=5;, score=0.827 total time=   0.1s\n",
      "[CV 3/5] END ......................C=1, gamma=5;, score=0.878 total time=   0.0s\n",
      "[CV 4/5] END ......................C=1, gamma=5;, score=0.866 total time=   0.0s\n",
      "[CV 5/5] END ......................C=1, gamma=5;, score=0.856 total time=   0.1s\n",
      "[CV 1/5] END .....................C=1, gamma=10;, score=0.857 total time=   0.1s\n",
      "[CV 2/5] END .....................C=1, gamma=10;, score=0.827 total time=   0.1s\n",
      "[CV 3/5] END .....................C=1, gamma=10;, score=0.878 total time=   0.0s\n",
      "[CV 4/5] END .....................C=1, gamma=10;, score=0.866 total time=   0.0s\n",
      "[CV 5/5] END .....................C=1, gamma=10;, score=0.856 total time=   0.1s\n",
      "[CV 1/5] END .....................C=1, gamma=50;, score=0.857 total time=   0.1s\n",
      "[CV 2/5] END .....................C=1, gamma=50;, score=0.827 total time=   0.1s\n",
      "[CV 3/5] END .....................C=1, gamma=50;, score=0.878 total time=   0.0s\n",
      "[CV 4/5] END .....................C=1, gamma=50;, score=0.866 total time=   0.0s\n",
      "[CV 5/5] END .....................C=1, gamma=50;, score=0.856 total time=   0.1s\n",
      "[CV 1/5] END ....................C=1, gamma=100;, score=0.857 total time=   0.1s\n",
      "[CV 2/5] END ....................C=1, gamma=100;, score=0.827 total time=   0.1s\n",
      "[CV 3/5] END ....................C=1, gamma=100;, score=0.878 total time=   0.0s\n",
      "[CV 4/5] END ....................C=1, gamma=100;, score=0.866 total time=   0.0s\n",
      "[CV 5/5] END ....................C=1, gamma=100;, score=0.856 total time=   0.1s\n",
      "[CV 1/5] END ....................C=5, gamma=0.1;, score=0.867 total time=   0.3s\n",
      "[CV 2/5] END ....................C=5, gamma=0.1;, score=0.816 total time=   0.1s\n",
      "[CV 3/5] END ....................C=5, gamma=0.1;, score=0.878 total time=   0.1s\n",
      "[CV 4/5] END ....................C=5, gamma=0.1;, score=0.866 total time=   0.3s\n",
      "[CV 5/5] END ....................C=5, gamma=0.1;, score=0.866 total time=   0.4s\n",
      "[CV 1/5] END ....................C=5, gamma=0.5;, score=0.867 total time=   0.3s\n",
      "[CV 2/5] END ....................C=5, gamma=0.5;, score=0.816 total time=   0.1s\n",
      "[CV 3/5] END ....................C=5, gamma=0.5;, score=0.878 total time=   0.1s\n",
      "[CV 4/5] END ....................C=5, gamma=0.5;, score=0.866 total time=   0.3s\n",
      "[CV 5/5] END ....................C=5, gamma=0.5;, score=0.866 total time=   0.4s\n",
      "[CV 1/5] END ......................C=5, gamma=1;, score=0.867 total time=   0.3s\n",
      "[CV 2/5] END ......................C=5, gamma=1;, score=0.816 total time=   0.1s\n",
      "[CV 3/5] END ......................C=5, gamma=1;, score=0.878 total time=   0.1s\n",
      "[CV 4/5] END ......................C=5, gamma=1;, score=0.866 total time=   0.3s\n",
      "[CV 5/5] END ......................C=5, gamma=1;, score=0.866 total time=   0.4s\n",
      "[CV 1/5] END ......................C=5, gamma=5;, score=0.867 total time=   0.3s\n",
      "[CV 2/5] END ......................C=5, gamma=5;, score=0.816 total time=   0.1s\n",
      "[CV 3/5] END ......................C=5, gamma=5;, score=0.878 total time=   0.1s\n",
      "[CV 4/5] END ......................C=5, gamma=5;, score=0.866 total time=   0.3s\n",
      "[CV 5/5] END ......................C=5, gamma=5;, score=0.866 total time=   0.4s\n",
      "[CV 1/5] END .....................C=5, gamma=10;, score=0.867 total time=   0.3s\n",
      "[CV 2/5] END .....................C=5, gamma=10;, score=0.816 total time=   0.1s\n",
      "[CV 3/5] END .....................C=5, gamma=10;, score=0.878 total time=   0.1s\n",
      "[CV 4/5] END .....................C=5, gamma=10;, score=0.866 total time=   0.2s\n",
      "[CV 5/5] END .....................C=5, gamma=10;, score=0.866 total time=   0.3s\n",
      "[CV 1/5] END .....................C=5, gamma=50;, score=0.867 total time=   0.2s\n",
      "[CV 2/5] END .....................C=5, gamma=50;, score=0.816 total time=   0.1s\n",
      "[CV 3/5] END .....................C=5, gamma=50;, score=0.878 total time=   0.1s\n",
      "[CV 4/5] END .....................C=5, gamma=50;, score=0.866 total time=   0.2s\n",
      "[CV 5/5] END .....................C=5, gamma=50;, score=0.866 total time=   0.2s\n",
      "[CV 1/5] END ....................C=5, gamma=100;, score=0.867 total time=   0.2s\n",
      "[CV 2/5] END ....................C=5, gamma=100;, score=0.816 total time=   0.1s\n",
      "[CV 3/5] END ....................C=5, gamma=100;, score=0.878 total time=   0.1s\n",
      "[CV 4/5] END ....................C=5, gamma=100;, score=0.866 total time=   0.2s\n",
      "[CV 5/5] END ....................C=5, gamma=100;, score=0.866 total time=   0.2s\n",
      "[CV 1/5] END ...................C=10, gamma=0.1;, score=0.867 total time=   0.3s\n",
      "[CV 2/5] END ...................C=10, gamma=0.1;, score=0.816 total time=   0.2s\n",
      "[CV 3/5] END ...................C=10, gamma=0.1;, score=0.878 total time=   0.2s\n",
      "[CV 4/5] END ...................C=10, gamma=0.1;, score=0.866 total time=   0.3s\n",
      "[CV 5/5] END ...................C=10, gamma=0.1;, score=0.856 total time=   0.3s\n",
      "[CV 1/5] END ...................C=10, gamma=0.5;, score=0.867 total time=   0.3s\n",
      "[CV 2/5] END ...................C=10, gamma=0.5;, score=0.816 total time=   0.2s\n",
      "[CV 3/5] END ...................C=10, gamma=0.5;, score=0.878 total time=   0.1s\n",
      "[CV 4/5] END ...................C=10, gamma=0.5;, score=0.866 total time=   0.3s\n",
      "[CV 5/5] END ...................C=10, gamma=0.5;, score=0.856 total time=   0.3s\n",
      "[CV 1/5] END .....................C=10, gamma=1;, score=0.867 total time=   0.3s\n",
      "[CV 2/5] END .....................C=10, gamma=1;, score=0.816 total time=   0.2s\n",
      "[CV 3/5] END .....................C=10, gamma=1;, score=0.878 total time=   0.1s\n",
      "[CV 4/5] END .....................C=10, gamma=1;, score=0.866 total time=   0.4s\n",
      "[CV 5/5] END .....................C=10, gamma=1;, score=0.856 total time=   0.3s\n",
      "[CV 1/5] END .....................C=10, gamma=5;, score=0.867 total time=   0.3s\n",
      "[CV 2/5] END .....................C=10, gamma=5;, score=0.816 total time=   0.2s\n",
      "[CV 3/5] END .....................C=10, gamma=5;, score=0.878 total time=   0.1s\n",
      "[CV 4/5] END .....................C=10, gamma=5;, score=0.866 total time=   0.3s\n",
      "[CV 5/5] END .....................C=10, gamma=5;, score=0.856 total time=   0.3s\n",
      "[CV 1/5] END ....................C=10, gamma=10;, score=0.867 total time=   0.3s\n",
      "[CV 2/5] END ....................C=10, gamma=10;, score=0.816 total time=   0.2s\n",
      "[CV 3/5] END ....................C=10, gamma=10;, score=0.878 total time=   0.1s\n",
      "[CV 4/5] END ....................C=10, gamma=10;, score=0.866 total time=   0.4s\n",
      "[CV 5/5] END ....................C=10, gamma=10;, score=0.856 total time=   0.3s\n",
      "[CV 1/5] END ....................C=10, gamma=50;, score=0.867 total time=   0.3s\n",
      "[CV 2/5] END ....................C=10, gamma=50;, score=0.816 total time=   0.2s\n",
      "[CV 3/5] END ....................C=10, gamma=50;, score=0.878 total time=   0.1s\n",
      "[CV 4/5] END ....................C=10, gamma=50;, score=0.866 total time=   0.3s\n",
      "[CV 5/5] END ....................C=10, gamma=50;, score=0.856 total time=   0.3s\n",
      "[CV 1/5] END ...................C=10, gamma=100;, score=0.867 total time=   0.3s\n",
      "[CV 2/5] END ...................C=10, gamma=100;, score=0.816 total time=   0.2s\n",
      "[CV 3/5] END ...................C=10, gamma=100;, score=0.878 total time=   0.1s\n",
      "[CV 4/5] END ...................C=10, gamma=100;, score=0.866 total time=   0.3s\n",
      "[CV 5/5] END ...................C=10, gamma=100;, score=0.856 total time=   0.3s\n",
      "[CV 1/5] END ...................C=50, gamma=0.1;, score=0.867 total time=   1.0s\n",
      "[CV 2/5] END ...................C=50, gamma=0.1;, score=0.827 total time=   1.1s\n",
      "[CV 3/5] END ...................C=50, gamma=0.1;, score=0.878 total time=   0.8s\n",
      "[CV 4/5] END ...................C=50, gamma=0.1;, score=0.866 total time=   1.7s\n",
      "[CV 5/5] END ...................C=50, gamma=0.1;, score=0.856 total time=   1.0s\n",
      "[CV 1/5] END ...................C=50, gamma=0.5;, score=0.867 total time=   1.0s\n",
      "[CV 2/5] END ...................C=50, gamma=0.5;, score=0.827 total time=   1.1s\n",
      "[CV 3/5] END ...................C=50, gamma=0.5;, score=0.878 total time=   0.8s\n",
      "[CV 4/5] END ...................C=50, gamma=0.5;, score=0.866 total time=   1.6s\n",
      "[CV 5/5] END ...................C=50, gamma=0.5;, score=0.856 total time=   1.0s\n",
      "[CV 1/5] END .....................C=50, gamma=1;, score=0.867 total time=   1.0s\n",
      "[CV 2/5] END .....................C=50, gamma=1;, score=0.827 total time=   1.1s\n",
      "[CV 3/5] END .....................C=50, gamma=1;, score=0.878 total time=   0.8s\n",
      "[CV 4/5] END .....................C=50, gamma=1;, score=0.866 total time=   1.7s\n",
      "[CV 5/5] END .....................C=50, gamma=1;, score=0.856 total time=   1.0s\n",
      "[CV 1/5] END .....................C=50, gamma=5;, score=0.867 total time=   1.0s\n",
      "[CV 2/5] END .....................C=50, gamma=5;, score=0.827 total time=   1.1s\n",
      "[CV 3/5] END .....................C=50, gamma=5;, score=0.878 total time=   0.8s\n",
      "[CV 4/5] END .....................C=50, gamma=5;, score=0.866 total time=   1.7s\n",
      "[CV 5/5] END .....................C=50, gamma=5;, score=0.856 total time=   1.0s\n",
      "[CV 1/5] END ....................C=50, gamma=10;, score=0.867 total time=   1.0s\n",
      "[CV 2/5] END ....................C=50, gamma=10;, score=0.827 total time=   1.1s\n",
      "[CV 3/5] END ....................C=50, gamma=10;, score=0.878 total time=   0.8s\n",
      "[CV 4/5] END ....................C=50, gamma=10;, score=0.866 total time=   1.6s\n",
      "[CV 5/5] END ....................C=50, gamma=10;, score=0.856 total time=   1.0s\n",
      "[CV 1/5] END ....................C=50, gamma=50;, score=0.867 total time=   1.0s\n",
      "[CV 2/5] END ....................C=50, gamma=50;, score=0.827 total time=   1.1s\n",
      "[CV 3/5] END ....................C=50, gamma=50;, score=0.878 total time=   0.8s\n",
      "[CV 4/5] END ....................C=50, gamma=50;, score=0.866 total time=   1.6s\n",
      "[CV 5/5] END ....................C=50, gamma=50;, score=0.856 total time=   1.0s\n",
      "[CV 1/5] END ...................C=50, gamma=100;, score=0.867 total time=   1.0s\n",
      "[CV 2/5] END ...................C=50, gamma=100;, score=0.827 total time=   1.1s\n",
      "[CV 3/5] END ...................C=50, gamma=100;, score=0.878 total time=   0.8s\n",
      "[CV 4/5] END ...................C=50, gamma=100;, score=0.866 total time=   1.7s\n",
      "[CV 5/5] END ...................C=50, gamma=100;, score=0.856 total time=   1.0s\n",
      "[CV 1/5] END ..................C=100, gamma=0.1;, score=0.867 total time=   2.0s\n",
      "[CV 2/5] END ..................C=100, gamma=0.1;, score=0.827 total time=   2.1s\n",
      "[CV 3/5] END ..................C=100, gamma=0.1;, score=0.878 total time=   2.1s\n",
      "[CV 4/5] END ..................C=100, gamma=0.1;, score=0.866 total time=   3.1s\n",
      "[CV 5/5] END ..................C=100, gamma=0.1;, score=0.845 total time=   1.8s\n",
      "[CV 1/5] END ..................C=100, gamma=0.5;, score=0.867 total time=   1.9s\n",
      "[CV 2/5] END ..................C=100, gamma=0.5;, score=0.827 total time=   2.1s\n",
      "[CV 3/5] END ..................C=100, gamma=0.5;, score=0.878 total time=   2.1s\n",
      "[CV 4/5] END ..................C=100, gamma=0.5;, score=0.866 total time=   3.1s\n",
      "[CV 5/5] END ..................C=100, gamma=0.5;, score=0.845 total time=   1.8s\n",
      "[CV 1/5] END ....................C=100, gamma=1;, score=0.867 total time=   2.0s\n",
      "[CV 2/5] END ....................C=100, gamma=1;, score=0.827 total time=   2.1s\n",
      "[CV 3/5] END ....................C=100, gamma=1;, score=0.878 total time=   2.1s\n",
      "[CV 4/5] END ....................C=100, gamma=1;, score=0.866 total time=   3.1s\n",
      "[CV 5/5] END ....................C=100, gamma=1;, score=0.845 total time=   1.8s\n",
      "[CV 1/5] END ....................C=100, gamma=5;, score=0.867 total time=   2.0s\n",
      "[CV 2/5] END ....................C=100, gamma=5;, score=0.827 total time=   2.1s\n",
      "[CV 3/5] END ....................C=100, gamma=5;, score=0.878 total time=   2.1s\n",
      "[CV 4/5] END ....................C=100, gamma=5;, score=0.866 total time=   3.2s\n",
      "[CV 5/5] END ....................C=100, gamma=5;, score=0.845 total time=   1.8s\n",
      "[CV 1/5] END ...................C=100, gamma=10;, score=0.867 total time=   2.0s\n",
      "[CV 2/5] END ...................C=100, gamma=10;, score=0.827 total time=   2.1s\n",
      "[CV 3/5] END ...................C=100, gamma=10;, score=0.878 total time=   2.1s\n",
      "[CV 4/5] END ...................C=100, gamma=10;, score=0.866 total time=   3.1s\n",
      "[CV 5/5] END ...................C=100, gamma=10;, score=0.845 total time=   1.8s\n",
      "[CV 1/5] END ...................C=100, gamma=50;, score=0.867 total time=   2.0s\n",
      "[CV 2/5] END ...................C=100, gamma=50;, score=0.827 total time=   2.2s\n",
      "[CV 3/5] END ...................C=100, gamma=50;, score=0.878 total time=   2.1s\n",
      "[CV 4/5] END ...................C=100, gamma=50;, score=0.866 total time=   3.1s\n",
      "[CV 5/5] END ...................C=100, gamma=50;, score=0.845 total time=   1.8s\n",
      "[CV 1/5] END ..................C=100, gamma=100;, score=0.867 total time=   2.0s\n",
      "[CV 2/5] END ..................C=100, gamma=100;, score=0.827 total time=   2.1s\n",
      "[CV 3/5] END ..................C=100, gamma=100;, score=0.878 total time=   2.1s\n",
      "[CV 4/5] END ..................C=100, gamma=100;, score=0.866 total time=   3.2s\n",
      "[CV 5/5] END ..................C=100, gamma=100;, score=0.845 total time=   1.8s\n"
     ]
    },
    {
     "data": {
      "text/html": [
       "<style>#sk-container-id-2 {color: black;background-color: white;}#sk-container-id-2 pre{padding: 0;}#sk-container-id-2 div.sk-toggleable {background-color: white;}#sk-container-id-2 label.sk-toggleable__label {cursor: pointer;display: block;width: 100%;margin-bottom: 0;padding: 0.3em;box-sizing: border-box;text-align: center;}#sk-container-id-2 label.sk-toggleable__label-arrow:before {content: \"▸\";float: left;margin-right: 0.25em;color: #696969;}#sk-container-id-2 label.sk-toggleable__label-arrow:hover:before {color: black;}#sk-container-id-2 div.sk-estimator:hover label.sk-toggleable__label-arrow:before {color: black;}#sk-container-id-2 div.sk-toggleable__content {max-height: 0;max-width: 0;overflow: hidden;text-align: left;background-color: #f0f8ff;}#sk-container-id-2 div.sk-toggleable__content pre {margin: 0.2em;color: black;border-radius: 0.25em;background-color: #f0f8ff;}#sk-container-id-2 input.sk-toggleable__control:checked~div.sk-toggleable__content {max-height: 200px;max-width: 100%;overflow: auto;}#sk-container-id-2 input.sk-toggleable__control:checked~label.sk-toggleable__label-arrow:before {content: \"▾\";}#sk-container-id-2 div.sk-estimator input.sk-toggleable__control:checked~label.sk-toggleable__label {background-color: #d4ebff;}#sk-container-id-2 div.sk-label input.sk-toggleable__control:checked~label.sk-toggleable__label {background-color: #d4ebff;}#sk-container-id-2 input.sk-hidden--visually {border: 0;clip: rect(1px 1px 1px 1px);clip: rect(1px, 1px, 1px, 1px);height: 1px;margin: -1px;overflow: hidden;padding: 0;position: absolute;width: 1px;}#sk-container-id-2 div.sk-estimator {font-family: monospace;background-color: #f0f8ff;border: 1px dotted black;border-radius: 0.25em;box-sizing: border-box;margin-bottom: 0.5em;}#sk-container-id-2 div.sk-estimator:hover {background-color: #d4ebff;}#sk-container-id-2 div.sk-parallel-item::after {content: \"\";width: 100%;border-bottom: 1px solid gray;flex-grow: 1;}#sk-container-id-2 div.sk-label:hover label.sk-toggleable__label {background-color: #d4ebff;}#sk-container-id-2 div.sk-serial::before {content: \"\";position: absolute;border-left: 1px solid gray;box-sizing: border-box;top: 0;bottom: 0;left: 50%;z-index: 0;}#sk-container-id-2 div.sk-serial {display: flex;flex-direction: column;align-items: center;background-color: white;padding-right: 0.2em;padding-left: 0.2em;position: relative;}#sk-container-id-2 div.sk-item {position: relative;z-index: 1;}#sk-container-id-2 div.sk-parallel {display: flex;align-items: stretch;justify-content: center;background-color: white;position: relative;}#sk-container-id-2 div.sk-item::before, #sk-container-id-2 div.sk-parallel-item::before {content: \"\";position: absolute;border-left: 1px solid gray;box-sizing: border-box;top: 0;bottom: 0;left: 50%;z-index: -1;}#sk-container-id-2 div.sk-parallel-item {display: flex;flex-direction: column;z-index: 1;position: relative;background-color: white;}#sk-container-id-2 div.sk-parallel-item:first-child::after {align-self: flex-end;width: 50%;}#sk-container-id-2 div.sk-parallel-item:last-child::after {align-self: flex-start;width: 50%;}#sk-container-id-2 div.sk-parallel-item:only-child::after {width: 0;}#sk-container-id-2 div.sk-dashed-wrapped {border: 1px dashed gray;margin: 0 0.4em 0.5em 0.4em;box-sizing: border-box;padding-bottom: 0.4em;background-color: white;}#sk-container-id-2 div.sk-label label {font-family: monospace;font-weight: bold;display: inline-block;line-height: 1.2em;}#sk-container-id-2 div.sk-label-container {text-align: center;}#sk-container-id-2 div.sk-container {/* jupyter's `normalize.less` sets `[hidden] { display: none; }` but bootstrap.min.css set `[hidden] { display: none !important; }` so we also need the `!important` here to be able to override the default hidden behavior on the sphinx rendered scikit-learn.org. See: https://github.com/scikit-learn/scikit-learn/issues/21755 */display: inline-block !important;position: relative;}#sk-container-id-2 div.sk-text-repr-fallback {display: none;}</style><div id=\"sk-container-id-2\" class=\"sk-top-container\"><div class=\"sk-text-repr-fallback\"><pre>GridSearchCV(estimator=SVC(kernel=&#x27;linear&#x27;),\n",
       "             param_grid={&#x27;C&#x27;: [0.1, 0.5, 1, 5, 10, 50, 100],\n",
       "                         &#x27;gamma&#x27;: [0.1, 0.5, 1, 5, 10, 50, 100]},\n",
       "             scoring=&#x27;recall&#x27;, verbose=3)</pre><b>In a Jupyter environment, please rerun this cell to show the HTML representation or trust the notebook. <br />On GitHub, the HTML representation is unable to render, please try loading this page with nbviewer.org.</b></div><div class=\"sk-container\" hidden><div class=\"sk-item sk-dashed-wrapped\"><div class=\"sk-label-container\"><div class=\"sk-label sk-toggleable\"><input class=\"sk-toggleable__control sk-hidden--visually\" id=\"sk-estimator-id-4\" type=\"checkbox\" ><label for=\"sk-estimator-id-4\" class=\"sk-toggleable__label sk-toggleable__label-arrow\">GridSearchCV</label><div class=\"sk-toggleable__content\"><pre>GridSearchCV(estimator=SVC(kernel=&#x27;linear&#x27;),\n",
       "             param_grid={&#x27;C&#x27;: [0.1, 0.5, 1, 5, 10, 50, 100],\n",
       "                         &#x27;gamma&#x27;: [0.1, 0.5, 1, 5, 10, 50, 100]},\n",
       "             scoring=&#x27;recall&#x27;, verbose=3)</pre></div></div></div><div class=\"sk-parallel\"><div class=\"sk-parallel-item\"><div class=\"sk-item\"><div class=\"sk-label-container\"><div class=\"sk-label sk-toggleable\"><input class=\"sk-toggleable__control sk-hidden--visually\" id=\"sk-estimator-id-5\" type=\"checkbox\" ><label for=\"sk-estimator-id-5\" class=\"sk-toggleable__label sk-toggleable__label-arrow\">estimator: SVC</label><div class=\"sk-toggleable__content\"><pre>SVC(kernel=&#x27;linear&#x27;)</pre></div></div></div><div class=\"sk-serial\"><div class=\"sk-item\"><div class=\"sk-estimator sk-toggleable\"><input class=\"sk-toggleable__control sk-hidden--visually\" id=\"sk-estimator-id-6\" type=\"checkbox\" ><label for=\"sk-estimator-id-6\" class=\"sk-toggleable__label sk-toggleable__label-arrow\">SVC</label><div class=\"sk-toggleable__content\"><pre>SVC(kernel=&#x27;linear&#x27;)</pre></div></div></div></div></div></div></div></div></div></div>"
      ],
      "text/plain": [
       "GridSearchCV(estimator=SVC(kernel='linear'),\n",
       "             param_grid={'C': [0.1, 0.5, 1, 5, 10, 50, 100],\n",
       "                         'gamma': [0.1, 0.5, 1, 5, 10, 50, 100]},\n",
       "             scoring='recall', verbose=3)"
      ]
     },
     "execution_count": 76,
     "metadata": {},
     "output_type": "execute_result"
    }
   ],
   "source": [
    "# defining parameter range\n",
    "param_grid = {\"gamma\": [0.1,0.5,1,5,10,50,100],\n",
    "                  \"C\": [0.1,0.5,1,5,10,50,100]} \n",
    "\n",
    "grid = GridSearchCV(svc, param_grid, refit = True, scoring='recall', verbose = 3)\n",
    "  \n",
    "# fitting the model for grid search\n",
    "grid.fit(X_train, y_train)"
   ]
  },
  {
   "cell_type": "code",
   "execution_count": 77,
   "id": "d0a8adda",
   "metadata": {},
   "outputs": [
    {
     "name": "stdout",
     "output_type": "stream",
     "text": [
      "{'C': 0.1, 'gamma': 0.1}\n",
      "SVC(C=0.1, gamma=0.1, kernel='linear')\n"
     ]
    }
   ],
   "source": [
    "# print best parameter after tuning\n",
    "print(grid.best_params_)\n",
    "  \n",
    "# print how our model looks after hyper-parameter tuning\n",
    "print(grid.best_estimator_)"
   ]
  },
  {
   "cell_type": "code",
   "execution_count": 78,
   "id": "cf451669",
   "metadata": {},
   "outputs": [
    {
     "name": "stdout",
     "output_type": "stream",
     "text": [
      "Accuracy:  0.7449664429530202\n",
      "              precision    recall  f1-score   support\n",
      "\n",
      "           1       0.77      0.91      0.83       209\n",
      "           2       0.63      0.36      0.46        89\n",
      "\n",
      "    accuracy                           0.74       298\n",
      "   macro avg       0.70      0.63      0.65       298\n",
      "weighted avg       0.73      0.74      0.72       298\n",
      "\n"
     ]
    }
   ],
   "source": [
    "# predict the response for test dataset\n",
    "y_pred_grid = grid.predict(X_test)\n",
    "\n",
    "print(\"Accuracy: \", accuracy_score(y_pred_grid, y_test))\n",
    "print(classification_report(y_test, y_pred_grid))"
   ]
  },
  {
   "cell_type": "markdown",
   "id": "2f900520",
   "metadata": {},
   "source": [
    "Unfortunately, our recall is still pretty low at 0.36 - meaning, only 36% of bad credit risk applicants were correctly identified by the model.  \n",
    "Since we plan on trying out other models and plotting the roc curve in the end, let's save the results in a table."
   ]
  },
  {
   "cell_type": "code",
   "execution_count": 79,
   "id": "f5a052df",
   "metadata": {},
   "outputs": [
    {
     "name": "stderr",
     "output_type": "stream",
     "text": [
      "/tmp/ipykernel_4638/444224913.py:7: FutureWarning: The frame.append method is deprecated and will be removed from pandas in a future version. Use pandas.concat instead.\n",
      "  result_table = result_table.append({'model': \"LinearSVC\",\n"
     ]
    }
   ],
   "source": [
    "# define a result table as a pandas dataframe\n",
    "result_table = pd.DataFrame(columns=['model', 'fpr','tpr','auc'])\n",
    "\n",
    "fpr, tpr, _ = roc_curve(y_test, y_pred_grid, pos_label=2)\n",
    "auc = roc_auc_score(y_test, y_pred_grid)\n",
    "\n",
    "result_table = result_table.append({'model': \"LinearSVC\",\n",
    "                                         'fpr' : fpr,\n",
    "                                         'tpr' : tpr,\n",
    "                                         'auc' : auc}, ignore_index=True)"
   ]
  },
  {
   "cell_type": "markdown",
   "id": "4bd0729a",
   "metadata": {},
   "source": [
    "### 4.2 Logistic Regression"
   ]
  },
  {
   "cell_type": "code",
   "execution_count": 80,
   "id": "28eeab87",
   "metadata": {},
   "outputs": [
    {
     "name": "stdout",
     "output_type": "stream",
     "text": [
      "Accuracy:  0.7348993288590604\n",
      "              precision    recall  f1-score   support\n",
      "\n",
      "           1       0.77      0.88      0.82       209\n",
      "           2       0.58      0.39      0.47        89\n",
      "\n",
      "    accuracy                           0.73       298\n",
      "   macro avg       0.68      0.64      0.65       298\n",
      "weighted avg       0.72      0.73      0.72       298\n",
      "\n"
     ]
    }
   ],
   "source": [
    "# create an LR classifier\n",
    "log = LogisticRegression()\n",
    "\n",
    "# train the model using the training set\n",
    "log.fit(X_train, y_train)\n",
    "\n",
    "# predict the response for test dataset\n",
    "y_pred_log = log.predict(X_test)\n",
    "\n",
    "print(\"Accuracy: \", accuracy_score(y_pred_log, y_test))\n",
    "print(classification_report(y_test, y_pred_log))"
   ]
  },
  {
   "cell_type": "code",
   "execution_count": 81,
   "id": "65850c92",
   "metadata": {},
   "outputs": [
    {
     "name": "stderr",
     "output_type": "stream",
     "text": [
      "/tmp/ipykernel_4638/4241003069.py:7: FutureWarning: The frame.append method is deprecated and will be removed from pandas in a future version. Use pandas.concat instead.\n",
      "  result_table = result_table.append({'model': \"LR\",\n"
     ]
    }
   ],
   "source": [
    "# calculating fpr, tpr and auc for plotting roc curve\n",
    "fpr, tpr, _ = roc_curve(y_test, y_pred_log, pos_label=2)\n",
    "auc = roc_auc_score(y_test, y_pred_log)\n",
    "\n",
    "\n",
    "# store the results in result_table\n",
    "result_table = result_table.append({'model': \"LR\",\n",
    "                                         'fpr' : fpr,\n",
    "                                         'tpr' : tpr,\n",
    "                                         'auc' : auc}, ignore_index=True)"
   ]
  },
  {
   "cell_type": "markdown",
   "id": "42d6ccb6",
   "metadata": {},
   "source": [
    "Recall isn't very good here, but still better than with SVC. Moving on..."
   ]
  },
  {
   "cell_type": "markdown",
   "id": "8193c597",
   "metadata": {},
   "source": [
    "### 4.3 Naive-Bayes"
   ]
  },
  {
   "cell_type": "code",
   "execution_count": 82,
   "id": "eb772a93",
   "metadata": {},
   "outputs": [
    {
     "name": "stdout",
     "output_type": "stream",
     "text": [
      "Accuracy: 0.7181208053691275\n",
      "              precision    recall  f1-score   support\n",
      "\n",
      "           1       0.81      0.78      0.79       209\n",
      "           2       0.53      0.58      0.55        89\n",
      "\n",
      "    accuracy                           0.72       298\n",
      "   macro avg       0.67      0.68      0.67       298\n",
      "weighted avg       0.73      0.72      0.72       298\n",
      "\n"
     ]
    }
   ],
   "source": [
    "# create an NB classifier\n",
    "nb = GaussianNB()\n",
    "\n",
    "# train the model using the training set\n",
    "nb.fit(X_train, y_train)\n",
    "\n",
    "# predict the response for test dataset\n",
    "y_pred_nb = nb.predict(X_test)\n",
    "\n",
    "print(\"Accuracy:\", accuracy_score(y_pred_nb, y_test))\n",
    "print(classification_report(y_test, y_pred_nb))"
   ]
  },
  {
   "cell_type": "code",
   "execution_count": 83,
   "id": "9d046ac2",
   "metadata": {},
   "outputs": [
    {
     "name": "stderr",
     "output_type": "stream",
     "text": [
      "/tmp/ipykernel_4638/2091260333.py:6: FutureWarning: The frame.append method is deprecated and will be removed from pandas in a future version. Use pandas.concat instead.\n",
      "  result_table = result_table.append({'model': \"Naive-Bayes\",\n"
     ]
    }
   ],
   "source": [
    "# calculating fpr, tpr and auc for plotting roc curve\n",
    "fpr, tpr, _ = roc_curve(y_test, y_pred_nb, pos_label=2)\n",
    "auc = roc_auc_score(y_test, y_pred_nb)\n",
    "\n",
    "# store the results in result_table\n",
    "result_table = result_table.append({'model': \"Naive-Bayes\",\n",
    "                                         'fpr' : fpr,\n",
    "                                         'tpr' : tpr,\n",
    "                                         'auc' : auc}, ignore_index=True)"
   ]
  },
  {
   "cell_type": "markdown",
   "id": "26e87079",
   "metadata": {},
   "source": [
    "I will discuss this result in the last section."
   ]
  },
  {
   "cell_type": "markdown",
   "id": "77ff5925",
   "metadata": {},
   "source": [
    "### 4.4 Random Forest Classifier"
   ]
  },
  {
   "cell_type": "code",
   "execution_count": 84,
   "id": "7deb40a1",
   "metadata": {},
   "outputs": [
    {
     "name": "stdout",
     "output_type": "stream",
     "text": [
      "Accuracy:  0.7583892617449665\n",
      "              precision    recall  f1-score   support\n",
      "\n",
      "           1       0.76      0.95      0.85       209\n",
      "           2       0.72      0.31      0.44        89\n",
      "\n",
      "    accuracy                           0.76       298\n",
      "   macro avg       0.74      0.63      0.64       298\n",
      "weighted avg       0.75      0.76      0.72       298\n",
      "\n"
     ]
    }
   ],
   "source": [
    "# create an RF classifier\n",
    "rf = RandomForestClassifier()\n",
    "\n",
    "# train the model using the training set\n",
    "rf.fit(X_train, y_train)\n",
    "\n",
    "# predict the response for test dataset\n",
    "y_pred_rf = rf.predict(X_test)\n",
    "\n",
    "print(\"Accuracy: \", accuracy_score(y_pred_rf, y_test))\n",
    "print(classification_report(y_test, y_pred_rf))"
   ]
  },
  {
   "cell_type": "code",
   "execution_count": 85,
   "id": "f217fabd",
   "metadata": {
    "collapsed": true
   },
   "outputs": [
    {
     "data": {
      "text/plain": [
       "{'bootstrap': True,\n",
       " 'ccp_alpha': 0.0,\n",
       " 'class_weight': None,\n",
       " 'criterion': 'gini',\n",
       " 'max_depth': None,\n",
       " 'max_features': 'sqrt',\n",
       " 'max_leaf_nodes': None,\n",
       " 'max_samples': None,\n",
       " 'min_impurity_decrease': 0.0,\n",
       " 'min_samples_leaf': 1,\n",
       " 'min_samples_split': 2,\n",
       " 'min_weight_fraction_leaf': 0.0,\n",
       " 'n_estimators': 100,\n",
       " 'n_jobs': None,\n",
       " 'oob_score': False,\n",
       " 'random_state': None,\n",
       " 'verbose': 0,\n",
       " 'warm_start': False}"
      ]
     },
     "execution_count": 85,
     "metadata": {},
     "output_type": "execute_result"
    }
   ],
   "source": [
    "# printing default parameters of RF model\n",
    "rf.get_params()"
   ]
  },
  {
   "cell_type": "markdown",
   "id": "5137dddf",
   "metadata": {},
   "source": [
    "I will now search for the best parameters, but this time using RandomizedSearchCV to save on computation time:"
   ]
  },
  {
   "cell_type": "code",
   "execution_count": 97,
   "id": "9c7d67f5",
   "metadata": {},
   "outputs": [
    {
     "data": {
      "text/html": [
       "<style>#sk-container-id-7 {color: black;background-color: white;}#sk-container-id-7 pre{padding: 0;}#sk-container-id-7 div.sk-toggleable {background-color: white;}#sk-container-id-7 label.sk-toggleable__label {cursor: pointer;display: block;width: 100%;margin-bottom: 0;padding: 0.3em;box-sizing: border-box;text-align: center;}#sk-container-id-7 label.sk-toggleable__label-arrow:before {content: \"▸\";float: left;margin-right: 0.25em;color: #696969;}#sk-container-id-7 label.sk-toggleable__label-arrow:hover:before {color: black;}#sk-container-id-7 div.sk-estimator:hover label.sk-toggleable__label-arrow:before {color: black;}#sk-container-id-7 div.sk-toggleable__content {max-height: 0;max-width: 0;overflow: hidden;text-align: left;background-color: #f0f8ff;}#sk-container-id-7 div.sk-toggleable__content pre {margin: 0.2em;color: black;border-radius: 0.25em;background-color: #f0f8ff;}#sk-container-id-7 input.sk-toggleable__control:checked~div.sk-toggleable__content {max-height: 200px;max-width: 100%;overflow: auto;}#sk-container-id-7 input.sk-toggleable__control:checked~label.sk-toggleable__label-arrow:before {content: \"▾\";}#sk-container-id-7 div.sk-estimator input.sk-toggleable__control:checked~label.sk-toggleable__label {background-color: #d4ebff;}#sk-container-id-7 div.sk-label input.sk-toggleable__control:checked~label.sk-toggleable__label {background-color: #d4ebff;}#sk-container-id-7 input.sk-hidden--visually {border: 0;clip: rect(1px 1px 1px 1px);clip: rect(1px, 1px, 1px, 1px);height: 1px;margin: -1px;overflow: hidden;padding: 0;position: absolute;width: 1px;}#sk-container-id-7 div.sk-estimator {font-family: monospace;background-color: #f0f8ff;border: 1px dotted black;border-radius: 0.25em;box-sizing: border-box;margin-bottom: 0.5em;}#sk-container-id-7 div.sk-estimator:hover {background-color: #d4ebff;}#sk-container-id-7 div.sk-parallel-item::after {content: \"\";width: 100%;border-bottom: 1px solid gray;flex-grow: 1;}#sk-container-id-7 div.sk-label:hover label.sk-toggleable__label {background-color: #d4ebff;}#sk-container-id-7 div.sk-serial::before {content: \"\";position: absolute;border-left: 1px solid gray;box-sizing: border-box;top: 0;bottom: 0;left: 50%;z-index: 0;}#sk-container-id-7 div.sk-serial {display: flex;flex-direction: column;align-items: center;background-color: white;padding-right: 0.2em;padding-left: 0.2em;position: relative;}#sk-container-id-7 div.sk-item {position: relative;z-index: 1;}#sk-container-id-7 div.sk-parallel {display: flex;align-items: stretch;justify-content: center;background-color: white;position: relative;}#sk-container-id-7 div.sk-item::before, #sk-container-id-7 div.sk-parallel-item::before {content: \"\";position: absolute;border-left: 1px solid gray;box-sizing: border-box;top: 0;bottom: 0;left: 50%;z-index: -1;}#sk-container-id-7 div.sk-parallel-item {display: flex;flex-direction: column;z-index: 1;position: relative;background-color: white;}#sk-container-id-7 div.sk-parallel-item:first-child::after {align-self: flex-end;width: 50%;}#sk-container-id-7 div.sk-parallel-item:last-child::after {align-self: flex-start;width: 50%;}#sk-container-id-7 div.sk-parallel-item:only-child::after {width: 0;}#sk-container-id-7 div.sk-dashed-wrapped {border: 1px dashed gray;margin: 0 0.4em 0.5em 0.4em;box-sizing: border-box;padding-bottom: 0.4em;background-color: white;}#sk-container-id-7 div.sk-label label {font-family: monospace;font-weight: bold;display: inline-block;line-height: 1.2em;}#sk-container-id-7 div.sk-label-container {text-align: center;}#sk-container-id-7 div.sk-container {/* jupyter's `normalize.less` sets `[hidden] { display: none; }` but bootstrap.min.css set `[hidden] { display: none !important; }` so we also need the `!important` here to be able to override the default hidden behavior on the sphinx rendered scikit-learn.org. See: https://github.com/scikit-learn/scikit-learn/issues/21755 */display: inline-block !important;position: relative;}#sk-container-id-7 div.sk-text-repr-fallback {display: none;}</style><div id=\"sk-container-id-7\" class=\"sk-top-container\"><div class=\"sk-text-repr-fallback\"><pre>RandomizedSearchCV(cv=5, estimator=RandomForestClassifier(),\n",
       "                   param_distributions={&#x27;max_depth&#x27;: range(3, 10),\n",
       "                                        &#x27;max_features&#x27;: [&#x27;log2&#x27;, &#x27;sqrt&#x27;],\n",
       "                                        &#x27;min_samples_leaf&#x27;: [5, 10, 15, 20, 25],\n",
       "                                        &#x27;n_estimators&#x27;: [5, 10, 25, 50, 150]})</pre><b>In a Jupyter environment, please rerun this cell to show the HTML representation or trust the notebook. <br />On GitHub, the HTML representation is unable to render, please try loading this page with nbviewer.org.</b></div><div class=\"sk-container\" hidden><div class=\"sk-item sk-dashed-wrapped\"><div class=\"sk-label-container\"><div class=\"sk-label sk-toggleable\"><input class=\"sk-toggleable__control sk-hidden--visually\" id=\"sk-estimator-id-19\" type=\"checkbox\" ><label for=\"sk-estimator-id-19\" class=\"sk-toggleable__label sk-toggleable__label-arrow\">RandomizedSearchCV</label><div class=\"sk-toggleable__content\"><pre>RandomizedSearchCV(cv=5, estimator=RandomForestClassifier(),\n",
       "                   param_distributions={&#x27;max_depth&#x27;: range(3, 10),\n",
       "                                        &#x27;max_features&#x27;: [&#x27;log2&#x27;, &#x27;sqrt&#x27;],\n",
       "                                        &#x27;min_samples_leaf&#x27;: [5, 10, 15, 20, 25],\n",
       "                                        &#x27;n_estimators&#x27;: [5, 10, 25, 50, 150]})</pre></div></div></div><div class=\"sk-parallel\"><div class=\"sk-parallel-item\"><div class=\"sk-item\"><div class=\"sk-label-container\"><div class=\"sk-label sk-toggleable\"><input class=\"sk-toggleable__control sk-hidden--visually\" id=\"sk-estimator-id-20\" type=\"checkbox\" ><label for=\"sk-estimator-id-20\" class=\"sk-toggleable__label sk-toggleable__label-arrow\">estimator: RandomForestClassifier</label><div class=\"sk-toggleable__content\"><pre>RandomForestClassifier()</pre></div></div></div><div class=\"sk-serial\"><div class=\"sk-item\"><div class=\"sk-estimator sk-toggleable\"><input class=\"sk-toggleable__control sk-hidden--visually\" id=\"sk-estimator-id-21\" type=\"checkbox\" ><label for=\"sk-estimator-id-21\" class=\"sk-toggleable__label sk-toggleable__label-arrow\">RandomForestClassifier</label><div class=\"sk-toggleable__content\"><pre>RandomForestClassifier()</pre></div></div></div></div></div></div></div></div></div></div>"
      ],
      "text/plain": [
       "RandomizedSearchCV(cv=5, estimator=RandomForestClassifier(),\n",
       "                   param_distributions={'max_depth': range(3, 10),\n",
       "                                        'max_features': ['log2', 'sqrt'],\n",
       "                                        'min_samples_leaf': [5, 10, 15, 20, 25],\n",
       "                                        'n_estimators': [5, 10, 25, 50, 150]})"
      ]
     },
     "execution_count": 97,
     "metadata": {},
     "output_type": "execute_result"
    }
   ],
   "source": [
    "param_grid_rf = {\"max_depth\": range(3,10),\n",
    "                  \"max_features\": ['log2', 'sqrt'],\n",
    "                  \"min_samples_leaf\": [5, 10, 15, 20, 25],\n",
    "                  \"n_estimators\": [5, 10, 25, 50, 150]}\n",
    "\n",
    "rf = RandomForestClassifier()\n",
    "\n",
    "random_search = RandomizedSearchCV(rf, param_grid_rf, cv=5, n_iter=10)\n",
    "\n",
    "random_search.fit(X_train, y_train)"
   ]
  },
  {
   "cell_type": "code",
   "execution_count": 98,
   "id": "0ffe5b47",
   "metadata": {},
   "outputs": [
    {
     "data": {
      "text/plain": [
       "{'n_estimators': 50,\n",
       " 'min_samples_leaf': 5,\n",
       " 'max_features': 'sqrt',\n",
       " 'max_depth': 6}"
      ]
     },
     "execution_count": 98,
     "metadata": {},
     "output_type": "execute_result"
    }
   ],
   "source": [
    "# print best parameters after tuning\n",
    "random_search.best_params_"
   ]
  },
  {
   "cell_type": "code",
   "execution_count": 99,
   "id": "352d9cd9",
   "metadata": {},
   "outputs": [
    {
     "name": "stdout",
     "output_type": "stream",
     "text": [
      "Accuracy:  0.7281879194630873\n",
      "              precision    recall  f1-score   support\n",
      "\n",
      "           1       0.72      1.00      0.84       209\n",
      "           2       0.90      0.10      0.18        89\n",
      "\n",
      "    accuracy                           0.73       298\n",
      "   macro avg       0.81      0.55      0.51       298\n",
      "weighted avg       0.78      0.73      0.64       298\n",
      "\n"
     ]
    }
   ],
   "source": [
    "# predict the response using the test set\n",
    "y_pred_rf = random_search.predict(X_test)\n",
    "\n",
    "print(\"Accuracy: \", accuracy_score(y_pred_rf, y_test))\n",
    "print(classification_report(y_test, y_pred_rf))"
   ]
  },
  {
   "cell_type": "markdown",
   "id": "814e9dac",
   "metadata": {},
   "source": [
    "Here we have a high precision and a low recall - the bad credit risk class is not well detected but when it is, the model is very reliable. Interesting!"
   ]
  },
  {
   "cell_type": "code",
   "execution_count": 100,
   "id": "9b78bc8a",
   "metadata": {},
   "outputs": [
    {
     "name": "stderr",
     "output_type": "stream",
     "text": [
      "/tmp/ipykernel_4638/2190918120.py:7: FutureWarning: The frame.append method is deprecated and will be removed from pandas in a future version. Use pandas.concat instead.\n",
      "  result_table = result_table.append({'model': \"Random Forest\",\n"
     ]
    }
   ],
   "source": [
    "# calculating fpr, tpr and auc for plotting roc curve\n",
    "fpr, tpr, _ = roc_curve(y_test, y_pred_rf, pos_label=2)\n",
    "auc = roc_auc_score(y_test, y_pred_rf)\n",
    "\n",
    "\n",
    "# store the results in result_table\n",
    "result_table = result_table.append({'model': \"Random Forest\",\n",
    "                                         'fpr' : fpr,\n",
    "                                         'tpr' : tpr,\n",
    "                                         'auc' : auc}, ignore_index=True)"
   ]
  },
  {
   "cell_type": "markdown",
   "id": "23456928",
   "metadata": {},
   "source": [
    "### 5. Evaluation"
   ]
  },
  {
   "cell_type": "markdown",
   "id": "5d0af92d",
   "metadata": {},
   "source": [
    "And now we plot the ROC curve and calculate the AOC for our models - this tells us how good our models are at correctly distinguishing between classes."
   ]
  },
  {
   "cell_type": "code",
   "execution_count": 101,
   "id": "04bbc503",
   "metadata": {},
   "outputs": [
    {
     "data": {
      "image/png": "[encoded data removed]",
      "text/plain": [
       "<Figure size 648x504 with 1 Axes>"
      ]
     },
     "metadata": {},
     "output_type": "display_data"
    }
   ],
   "source": [
    "for i in result_table.index:\n",
    "    plt.plot(result_table.loc[i]['fpr'], \n",
    "             result_table.loc[i]['tpr'], \n",
    "             label = \"{}, AUC={:.3f}\".format(result_table.loc[i]['model'], result_table.loc[i]['auc']))\n",
    "    \n",
    "plt.plot([0,1], [0,1], color = 'black', linestyle = '--')\n",
    "\n",
    "plt.xticks(np.arange(0.0, 1.1, step=0.1))\n",
    "plt.xlabel(\"False Positive Rate\", fontsize=15)\n",
    "\n",
    "plt.yticks(np.arange(0.0, 1.1, step=0.1))\n",
    "plt.ylabel(\"True Positive Rate\", fontsize=15)\n",
    "\n",
    "plt.title('ROC Curve Analysis', fontweight='bold', fontsize=15)\n",
    "plt.legend(prop = {'size':13}, loc = 'lower right')\n",
    "plt.rcParams['figure.figsize'] = [8, 8]"
   ]
  },
  {
   "cell_type": "markdown",
   "id": "6936e807",
   "metadata": {},
   "source": [
    "Based on the AUC and the recall, our best performing model is Naive-Bayes. And our worst performer is Random Forest Classifier."
   ]
  }
 ],
 "metadata": {
  "kernelspec": {
   "display_name": "Python 3 (ipykernel)",
   "language": "python",
   "name": "python3"
  },
  "language_info": {
   "codemirror_mode": {
    "name": "ipython",
    "version": 3
   },
   "file_extension": ".py",
   "mimetype": "text/x-python",
   "name": "python",
   "nbconvert_exporter": "python",
   "pygments_lexer": "ipython3",
   "version": "3.8.10"
  }
 },
 "nbformat": 4,
 "nbformat_minor": 5
}
